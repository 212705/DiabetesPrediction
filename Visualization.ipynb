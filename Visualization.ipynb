{
 "cells": [
  {
   "cell_type": "code",
   "execution_count": 412,
   "metadata": {
    "collapsed": true
   },
   "outputs": [],
   "source": [
    "import os\n",
    "import pandas as pd\n",
    "import numpy as np\n",
    "import matplotlib\n",
    "import matplotlib.pyplot as plt\n",
    "os.chdir('/Users/ItelinaMa/Documents/Metis/McNulty/trainingSet')"
   ]
  },
  {
   "cell_type": "code",
   "execution_count": 413,
   "metadata": {
    "collapsed": true
   },
   "outputs": [],
   "source": [
    "df = pd.read_csv('visualization.csv')"
   ]
  },
  {
   "cell_type": "code",
   "execution_count": 414,
   "metadata": {
    "collapsed": false
   },
   "outputs": [
    {
     "data": {
      "text/html": [
       "<div>\n",
       "<table border=\"1\" class=\"dataframe\">\n",
       "  <thead>\n",
       "    <tr style=\"text-align: right;\">\n",
       "      <th></th>\n",
       "      <th>Unnamed: 0</th>\n",
       "      <th>index</th>\n",
       "      <th>DiagnosisDescription</th>\n",
       "      <th>PercentageDiab</th>\n",
       "      <th>PatientsWithCondition</th>\n",
       "      <th>PercentageOfTotalPop</th>\n",
       "    </tr>\n",
       "  </thead>\n",
       "  <tbody>\n",
       "    <tr>\n",
       "      <th>0</th>\n",
       "      <td>0</td>\n",
       "      <td>002.0</td>\n",
       "      <td>Typhoid fever</td>\n",
       "      <td>1.0</td>\n",
       "      <td>1</td>\n",
       "      <td>0.000101</td>\n",
       "    </tr>\n",
       "    <tr>\n",
       "      <th>1</th>\n",
       "      <td>1</td>\n",
       "      <td>003.0</td>\n",
       "      <td>Salmonella gastroenteritis</td>\n",
       "      <td>0.5</td>\n",
       "      <td>2</td>\n",
       "      <td>0.000201</td>\n",
       "    </tr>\n",
       "    <tr>\n",
       "      <th>2</th>\n",
       "      <td>2</td>\n",
       "      <td>003.23</td>\n",
       "      <td>Salmonella arthritis</td>\n",
       "      <td>0.0</td>\n",
       "      <td>1</td>\n",
       "      <td>0.000101</td>\n",
       "    </tr>\n",
       "    <tr>\n",
       "      <th>3</th>\n",
       "      <td>3</td>\n",
       "      <td>005.9</td>\n",
       "      <td>Food poisoning, unspecified</td>\n",
       "      <td>0.0</td>\n",
       "      <td>4</td>\n",
       "      <td>0.000402</td>\n",
       "    </tr>\n",
       "    <tr>\n",
       "      <th>4</th>\n",
       "      <td>4</td>\n",
       "      <td>007.1</td>\n",
       "      <td>Giardiasis</td>\n",
       "      <td>0.0</td>\n",
       "      <td>4</td>\n",
       "      <td>0.000402</td>\n",
       "    </tr>\n",
       "  </tbody>\n",
       "</table>\n",
       "</div>"
      ],
      "text/plain": [
       "   Unnamed: 0   index         DiagnosisDescription  PercentageDiab  \\\n",
       "0           0   002.0                Typhoid fever             1.0   \n",
       "1           1   003.0   Salmonella gastroenteritis             0.5   \n",
       "2           2  003.23         Salmonella arthritis             0.0   \n",
       "3           3   005.9  Food poisoning, unspecified             0.0   \n",
       "4           4   007.1                   Giardiasis             0.0   \n",
       "\n",
       "   PatientsWithCondition  PercentageOfTotalPop  \n",
       "0                      1              0.000101  \n",
       "1                      2              0.000201  \n",
       "2                      1              0.000101  \n",
       "3                      4              0.000402  \n",
       "4                      4              0.000402  "
      ]
     },
     "execution_count": 414,
     "metadata": {},
     "output_type": "execute_result"
    }
   ],
   "source": [
    "df.head(5)"
   ]
  },
  {
   "cell_type": "code",
   "execution_count": 415,
   "metadata": {
    "collapsed": false
   },
   "outputs": [],
   "source": [
    "df.columns = ['x', 'ICD9','ICD9Descrp', 'PercentageDiab', 'PatientsWithCondition','PercentageOfTotalPop']\n",
    "df1 = df[['ICD9', 'ICD9Descrp', 'PercentageOfTotalPop', 'PercentageDiab']].copy()\n",
    "df1 = df1[df1['PercentageOfTotalPop'] > 0.0015]\n",
    "df1['name'] = df1.ICD9Descrp + \" (\" + df.ICD9 + \")\""
   ]
  },
  {
   "cell_type": "code",
   "execution_count": 416,
   "metadata": {
    "collapsed": false
   },
   "outputs": [],
   "source": [
    "ndf = df1[['name', 'PercentageDiab', 'PercentageOfTotalPop']].copy()\n",
    "ndf['Size'] = ndf['PercentageOfTotalPop']*10000\n",
    "ndf['Bins'] = pd.cut(ndf['PercentageDiab'], 4, labels=['Low',\"MediumLow\",\"Medium\",\"High\"])\n",
    "ndf = ndf.sort('PercentageDiab', ascending=False)\n",
    "final = ndf[['Bins', 'name', 'Size']].copy()"
   ]
  },
  {
   "cell_type": "code",
   "execution_count": 417,
   "metadata": {
    "collapsed": false
   },
   "outputs": [
    {
     "data": {
      "text/plain": [
       "15.078407720100001"
      ]
     },
     "execution_count": 417,
     "metadata": {},
     "output_type": "execute_result"
    }
   ],
   "source": [
    "min(final['Size'])"
   ]
  },
  {
   "cell_type": "code",
   "execution_count": 419,
   "metadata": {
    "collapsed": false
   },
   "outputs": [
    {
     "data": {
      "text/plain": [
       "array(['(0.719, 0.959]', '(0.48, 0.719]', '(0.24, 0.48]',\n",
       "       '(-0.000959, 0.24]'], dtype=object)"
      ]
     },
     "execution_count": 419,
     "metadata": {},
     "output_type": "execute_result"
    }
   ],
   "source": [
    "pd.cut(ndf['PercentageDiab'], 4).unique()"
   ]
  },
  {
   "cell_type": "code",
   "execution_count": 408,
   "metadata": {
    "collapsed": false
   },
   "outputs": [
    {
     "data": {
      "text/plain": [
       "(823, 3)"
      ]
     },
     "execution_count": 408,
     "metadata": {},
     "output_type": "execute_result"
    }
   ],
   "source": [
    "final.shape"
   ]
  },
  {
   "cell_type": "code",
   "execution_count": 409,
   "metadata": {
    "collapsed": false
   },
   "outputs": [],
   "source": [
    "objects = []\n",
    "for value in final.values:\n",
    "    templist = []\n",
    "    tempdict = {}\n",
    "    for i, item in enumerate(value):\n",
    "        if i == 0:\n",
    "            tempdict['bins'] = item\n",
    "        elif i == 1:\n",
    "            tempdict['name'] = item\n",
    "        else:\n",
    "            tempdict['value'] = item\n",
    "        if tempdict not in templist:\n",
    "            templist.append(tempdict)\n",
    "    objects.extend(templist)"
   ]
  },
  {
   "cell_type": "code",
   "execution_count": 410,
   "metadata": {
    "collapsed": true
   },
   "outputs": [],
   "source": [
    "finaldict = {}\n",
    "finaldict['children'] = objects"
   ]
  },
  {
   "cell_type": "code",
   "execution_count": 411,
   "metadata": {
    "collapsed": false
   },
   "outputs": [],
   "source": [
    "os.chdir('/Users/ItelinaMa/Documents/Metis/McNulty/Visualization')\n",
    "with open(\"medicaldata.json\", \"w\") as outfile:\n",
    "    json.dump(finaldict, outfile, indent=4)"
   ]
  },
  {
   "cell_type": "markdown",
   "metadata": {},
   "source": [
    "####Extra Stuff"
   ]
  },
  {
   "cell_type": "code",
   "execution_count": 84,
   "metadata": {
    "collapsed": false
   },
   "outputs": [],
   "source": [
    "plotdata = df2[['x1', 'y1']]"
   ]
  },
  {
   "cell_type": "code",
   "execution_count": 85,
   "metadata": {
    "collapsed": false
   },
   "outputs": [
    {
     "data": {
      "text/plain": [
       "<matplotlib.axes._subplots.AxesSubplot at 0x10c1f1e50>"
      ]
     },
     "execution_count": 85,
     "metadata": {},
     "output_type": "execute_result"
    },
    {
     "data": {
      "image/png": "[encoded data removed]",
      "text/plain": [
       "<matplotlib.figure.Figure at 0x10c186d90>"
      ]
     },
     "metadata": {},
     "output_type": "display_data"
    }
   ],
   "source": [
    "%matplotlib inline\n",
    "matplotlib.style.use('ggplot')\n",
    "df2.plot(kind='scatter', x = 'x1', y = 'y1')"
   ]
  },
  {
   "cell_type": "code",
   "execution_count": 86,
   "metadata": {
    "collapsed": false
   },
   "outputs": [
    {
     "data": {
      "text/html": [
       "<div>\n",
       "<table border=\"1\" class=\"dataframe\">\n",
       "  <thead>\n",
       "    <tr style=\"text-align: right;\">\n",
       "      <th></th>\n",
       "      <th>ICD9</th>\n",
       "      <th>PercentageOfTotalPop</th>\n",
       "      <th>PercentageDiab</th>\n",
       "      <th>x1</th>\n",
       "      <th>y1</th>\n",
       "    </tr>\n",
       "  </thead>\n",
       "  <tbody>\n",
       "    <tr>\n",
       "      <th>0</th>\n",
       "      <td>272.2</td>\n",
       "      <td>0.238540</td>\n",
       "      <td>0.356932</td>\n",
       "      <td>20</td>\n",
       "      <td>5</td>\n",
       "    </tr>\n",
       "    <tr>\n",
       "      <th>1</th>\n",
       "      <td>401.1</td>\n",
       "      <td>0.186771</td>\n",
       "      <td>0.370291</td>\n",
       "      <td>3</td>\n",
       "      <td>22</td>\n",
       "    </tr>\n",
       "    <tr>\n",
       "      <th>2</th>\n",
       "      <td>401.9</td>\n",
       "      <td>0.179031</td>\n",
       "      <td>0.304885</td>\n",
       "      <td>22</td>\n",
       "      <td>15</td>\n",
       "    </tr>\n",
       "    <tr>\n",
       "      <th>3</th>\n",
       "      <td>V70.0</td>\n",
       "      <td>0.157419</td>\n",
       "      <td>0.133461</td>\n",
       "      <td>27</td>\n",
       "      <td>10</td>\n",
       "    </tr>\n",
       "    <tr>\n",
       "      <th>4</th>\n",
       "      <td>724.2</td>\n",
       "      <td>0.139425</td>\n",
       "      <td>0.211247</td>\n",
       "      <td>22</td>\n",
       "      <td>11</td>\n",
       "    </tr>\n",
       "  </tbody>\n",
       "</table>\n",
       "</div>"
      ],
      "text/plain": [
       "    ICD9  PercentageOfTotalPop  PercentageDiab  x1  y1\n",
       "0  272.2              0.238540        0.356932  20   5\n",
       "1  401.1              0.186771        0.370291   3  22\n",
       "2  401.9              0.179031        0.304885  22  15\n",
       "3  V70.0              0.157419        0.133461  27  10\n",
       "4  724.2              0.139425        0.211247  22  11"
      ]
     },
     "execution_count": 86,
     "metadata": {},
     "output_type": "execute_result"
    }
   ],
   "source": [
    "df2.head(5)"
   ]
  },
  {
   "cell_type": "markdown",
   "metadata": {},
   "source": [
    "####Circle Packing Problem"
   ]
  },
  {
   "cell_type": "code",
   "execution_count": 90,
   "metadata": {
    "collapsed": false
   },
   "outputs": [],
   "source": [
    "circledata = df2[['x1', 'y1', 'PercentageOfTotalPop', 'PercentageDiab']].copy()"
   ]
  },
  {
   "cell_type": "code",
   "execution_count": 115,
   "metadata": {
    "collapsed": false
   },
   "outputs": [
    {
     "data": {
      "image/png": "[encoded data removed]",
      "text/plain": [
       "<matplotlib.figure.Figure at 0x10c557590>"
      ]
     },
     "metadata": {},
     "output_type": "display_data"
    }
   ],
   "source": [
    "from pylab import *\n",
    "from scipy import *\n",
    "\n",
    "x = list(circledata['x1'])\n",
    "y = list(circledata['y1'])\n",
    "color = list(circledata['PercentageDiab'])\n",
    "area = list(circledata['PercentageOfTotalPop']*5000)\n",
    "sct = scatter(x, y, s=area, c=color, marker='o', linewidths=2, edgecolor='w')\n",
    "sct.set_alpha(0.75)\n",
    "\n",
    "axis([0,30,0,30])\n",
    "xlabel('XLabel')\n",
    "ylabel('YLabel')\n",
    "show()"
   ]
  },
  {
   "cell_type": "code",
   "execution_count": 140,
   "metadata": {
    "collapsed": true
   },
   "outputs": [],
   "source": []
  },
  {
   "cell_type": "code",
   "execution_count": 144,
   "metadata": {
    "collapsed": false
   },
   "outputs": [],
   "source": []
  },
  {
   "cell_type": "code",
   "execution_count": 145,
   "metadata": {
    "collapsed": false
   },
   "outputs": [
    {
     "name": "stdout",
     "output_type": "stream",
     "text": [
      "          Bins    ICD9         Size\n",
      "24        High   782.3   522.718134\n",
      "1         High   401.1  1867.712103\n",
      "0         High   272.2  2385.404101\n",
      "17        High     401   771.009248\n",
      "7   HighMedium   272.4  1120.828307\n",
      "26  HighMedium  V04.81   508.644954\n",
      "2   HighMedium   401.9  1790.309610\n",
      "13  HighMedium   272.0   876.558102\n",
      "22      Medium   268.9   614.193808\n",
      "8       Medium   786.2  1041.415360\n",
      "11      Medium   244.9   905.709690\n",
      "6       Medium  530.81  1291.716928\n",
      "12      Medium   599.0   877.563329\n",
      "5    MediumLow   466.0  1354.041013\n",
      "4    MediumLow   724.2  1394.250101\n",
      "10   MediumLow   465.9   925.814234\n",
      "14   MediumLow  780.79   817.249698\n",
      "9    MediumLow   477.9   943.908323\n",
      "20   MediumLow   305.1   633.293124\n",
      "21   MediumLow  300.02   619.219944\n",
      "25   MediumLow     477   513.671090\n",
      "18         Low  780.52   655.408122\n",
      "19         Low     311   645.355850\n",
      "23         Low   784.0   538.801769\n",
      "3          Low   V70.0  1574.185766\n",
      "15         Low  300.00   791.113792\n",
      "16         Low   461.9   779.051066\n"
     ]
    }
   ],
   "source": [
    "print final"
   ]
  },
  {
   "cell_type": "code",
   "execution_count": 169,
   "metadata": {
    "collapsed": false
   },
   "outputs": [
    {
     "data": {
      "text/plain": [
       "array(['High', '782.3', 522.718134298], dtype=object)"
      ]
     },
     "execution_count": 169,
     "metadata": {},
     "output_type": "execute_result"
    }
   ],
   "source": [
    "final.values[0]"
   ]
  },
  {
   "cell_type": "code",
   "execution_count": 166,
   "metadata": {
    "collapsed": false
   },
   "outputs": [
    {
     "data": {
      "text/plain": [
       "array(['High', '782.3'], dtype=object)"
      ]
     },
     "execution_count": 166,
     "metadata": {},
     "output_type": "execute_result"
    }
   ],
   "source": [
    "final.values[0][:-1]"
   ]
  },
  {
   "cell_type": "code",
   "execution_count": 170,
   "metadata": {
    "collapsed": false
   },
   "outputs": [
    {
     "data": {
      "text/html": [
       "<div>\n",
       "<table border=\"1\" class=\"dataframe\">\n",
       "  <thead>\n",
       "    <tr style=\"text-align: right;\">\n",
       "      <th></th>\n",
       "      <th>Bins</th>\n",
       "      <th>ICD9</th>\n",
       "      <th>Size</th>\n",
       "    </tr>\n",
       "  </thead>\n",
       "  <tbody>\n",
       "    <tr>\n",
       "      <th>24</th>\n",
       "      <td>High</td>\n",
       "      <td>782.3</td>\n",
       "      <td>522.718134</td>\n",
       "    </tr>\n",
       "    <tr>\n",
       "      <th>1</th>\n",
       "      <td>High</td>\n",
       "      <td>401.1</td>\n",
       "      <td>1867.712103</td>\n",
       "    </tr>\n",
       "    <tr>\n",
       "      <th>0</th>\n",
       "      <td>High</td>\n",
       "      <td>272.2</td>\n",
       "      <td>2385.404101</td>\n",
       "    </tr>\n",
       "    <tr>\n",
       "      <th>17</th>\n",
       "      <td>High</td>\n",
       "      <td>401</td>\n",
       "      <td>771.009248</td>\n",
       "    </tr>\n",
       "    <tr>\n",
       "      <th>7</th>\n",
       "      <td>HighMedium</td>\n",
       "      <td>272.4</td>\n",
       "      <td>1120.828307</td>\n",
       "    </tr>\n",
       "    <tr>\n",
       "      <th>26</th>\n",
       "      <td>HighMedium</td>\n",
       "      <td>V04.81</td>\n",
       "      <td>508.644954</td>\n",
       "    </tr>\n",
       "    <tr>\n",
       "      <th>2</th>\n",
       "      <td>HighMedium</td>\n",
       "      <td>401.9</td>\n",
       "      <td>1790.309610</td>\n",
       "    </tr>\n",
       "    <tr>\n",
       "      <th>13</th>\n",
       "      <td>HighMedium</td>\n",
       "      <td>272.0</td>\n",
       "      <td>876.558102</td>\n",
       "    </tr>\n",
       "    <tr>\n",
       "      <th>22</th>\n",
       "      <td>Medium</td>\n",
       "      <td>268.9</td>\n",
       "      <td>614.193808</td>\n",
       "    </tr>\n",
       "    <tr>\n",
       "      <th>8</th>\n",
       "      <td>Medium</td>\n",
       "      <td>786.2</td>\n",
       "      <td>1041.415360</td>\n",
       "    </tr>\n",
       "    <tr>\n",
       "      <th>11</th>\n",
       "      <td>Medium</td>\n",
       "      <td>244.9</td>\n",
       "      <td>905.709690</td>\n",
       "    </tr>\n",
       "    <tr>\n",
       "      <th>6</th>\n",
       "      <td>Medium</td>\n",
       "      <td>530.81</td>\n",
       "      <td>1291.716928</td>\n",
       "    </tr>\n",
       "    <tr>\n",
       "      <th>12</th>\n",
       "      <td>Medium</td>\n",
       "      <td>599.0</td>\n",
       "      <td>877.563329</td>\n",
       "    </tr>\n",
       "    <tr>\n",
       "      <th>5</th>\n",
       "      <td>MediumLow</td>\n",
       "      <td>466.0</td>\n",
       "      <td>1354.041013</td>\n",
       "    </tr>\n",
       "    <tr>\n",
       "      <th>4</th>\n",
       "      <td>MediumLow</td>\n",
       "      <td>724.2</td>\n",
       "      <td>1394.250101</td>\n",
       "    </tr>\n",
       "    <tr>\n",
       "      <th>10</th>\n",
       "      <td>MediumLow</td>\n",
       "      <td>465.9</td>\n",
       "      <td>925.814234</td>\n",
       "    </tr>\n",
       "    <tr>\n",
       "      <th>14</th>\n",
       "      <td>MediumLow</td>\n",
       "      <td>780.79</td>\n",
       "      <td>817.249698</td>\n",
       "    </tr>\n",
       "    <tr>\n",
       "      <th>9</th>\n",
       "      <td>MediumLow</td>\n",
       "      <td>477.9</td>\n",
       "      <td>943.908323</td>\n",
       "    </tr>\n",
       "    <tr>\n",
       "      <th>20</th>\n",
       "      <td>MediumLow</td>\n",
       "      <td>305.1</td>\n",
       "      <td>633.293124</td>\n",
       "    </tr>\n",
       "    <tr>\n",
       "      <th>21</th>\n",
       "      <td>MediumLow</td>\n",
       "      <td>300.02</td>\n",
       "      <td>619.219944</td>\n",
       "    </tr>\n",
       "    <tr>\n",
       "      <th>25</th>\n",
       "      <td>MediumLow</td>\n",
       "      <td>477</td>\n",
       "      <td>513.671090</td>\n",
       "    </tr>\n",
       "    <tr>\n",
       "      <th>18</th>\n",
       "      <td>Low</td>\n",
       "      <td>780.52</td>\n",
       "      <td>655.408122</td>\n",
       "    </tr>\n",
       "    <tr>\n",
       "      <th>19</th>\n",
       "      <td>Low</td>\n",
       "      <td>311</td>\n",
       "      <td>645.355850</td>\n",
       "    </tr>\n",
       "    <tr>\n",
       "      <th>23</th>\n",
       "      <td>Low</td>\n",
       "      <td>784.0</td>\n",
       "      <td>538.801769</td>\n",
       "    </tr>\n",
       "    <tr>\n",
       "      <th>3</th>\n",
       "      <td>Low</td>\n",
       "      <td>V70.0</td>\n",
       "      <td>1574.185766</td>\n",
       "    </tr>\n",
       "    <tr>\n",
       "      <th>15</th>\n",
       "      <td>Low</td>\n",
       "      <td>300.00</td>\n",
       "      <td>791.113792</td>\n",
       "    </tr>\n",
       "    <tr>\n",
       "      <th>16</th>\n",
       "      <td>Low</td>\n",
       "      <td>461.9</td>\n",
       "      <td>779.051066</td>\n",
       "    </tr>\n",
       "  </tbody>\n",
       "</table>\n",
       "</div>"
      ],
      "text/plain": [
       "          Bins    ICD9         Size\n",
       "24        High   782.3   522.718134\n",
       "1         High   401.1  1867.712103\n",
       "0         High   272.2  2385.404101\n",
       "17        High     401   771.009248\n",
       "7   HighMedium   272.4  1120.828307\n",
       "26  HighMedium  V04.81   508.644954\n",
       "2   HighMedium   401.9  1790.309610\n",
       "13  HighMedium   272.0   876.558102\n",
       "22      Medium   268.9   614.193808\n",
       "8       Medium   786.2  1041.415360\n",
       "11      Medium   244.9   905.709690\n",
       "6       Medium  530.81  1291.716928\n",
       "12      Medium   599.0   877.563329\n",
       "5    MediumLow   466.0  1354.041013\n",
       "4    MediumLow   724.2  1394.250101\n",
       "10   MediumLow   465.9   925.814234\n",
       "14   MediumLow  780.79   817.249698\n",
       "9    MediumLow   477.9   943.908323\n",
       "20   MediumLow   305.1   633.293124\n",
       "21   MediumLow  300.02   619.219944\n",
       "25   MediumLow     477   513.671090\n",
       "18         Low  780.52   655.408122\n",
       "19         Low     311   645.355850\n",
       "23         Low   784.0   538.801769\n",
       "3          Low   V70.0  1574.185766\n",
       "15         Low  300.00   791.113792\n",
       "16         Low   461.9   779.051066"
      ]
     },
     "execution_count": 170,
     "metadata": {},
     "output_type": "execute_result"
    }
   ],
   "source": [
    "final"
   ]
  },
  {
   "cell_type": "code",
   "execution_count": 193,
   "metadata": {
    "collapsed": false
   },
   "outputs": [
    {
     "data": {
      "text/plain": [
       "array(['High', '782.3'], dtype=object)"
      ]
     },
     "execution_count": 193,
     "metadata": {},
     "output_type": "execute_result"
    }
   ],
   "source": [
    "final.values[0][:-1]"
   ]
  },
  {
   "cell_type": "code",
   "execution_count": 187,
   "metadata": {
    "collapsed": false
   },
   "outputs": [
    {
     "data": {
      "text/plain": [
       "3"
      ]
     },
     "execution_count": 187,
     "metadata": {},
     "output_type": "execute_result"
    }
   ],
   "source": [
    "final.values.shape[1]"
   ]
  },
  {
   "cell_type": "code",
   "execution_count": 191,
   "metadata": {
    "collapsed": false
   },
   "outputs": [
    {
     "data": {
      "text/plain": [
       "array(['782.3', 522.718134298], dtype=object)"
      ]
     },
     "execution_count": 191,
     "metadata": {},
     "output_type": "execute_result"
    }
   ],
   "source": [
    "final.values[0][1:]"
   ]
  },
  {
   "cell_type": "code",
   "execution_count": 206,
   "metadata": {
    "collapsed": false
   },
   "outputs": [],
   "source": [
    "def fdrec(df = final):\n",
    "    drec = dict()\n",
    "    ncols = df.values.shape[1]\n",
    "    for line in df.values:\n",
    "        d = drec\n",
    "        for j, col in enumerate(line):\n",
    "            if not col in d.keys():\n",
    "                if j == 0:\n",
    "                    d[col] = {}\n",
    "                    d = d[col]\n",
    "                elif j == 1:\n",
    "                    d['ICD9'] = col\n",
    "            else:\n",
    "                if j!= ncols-2:\n",
    "                    d = d[col]\n",
    "    return drec"
   ]
  },
  {
   "cell_type": "code",
   "execution_count": 229,
   "metadata": {
    "collapsed": true
   },
   "outputs": [],
   "source": [
    "jdata = fdrec()"
   ]
  },
  {
   "cell_type": "code",
   "execution_count": 230,
   "metadata": {
    "collapsed": false
   },
   "outputs": [
    {
     "data": {
      "text/plain": [
       "{'272.2': 2385.4041013300002,\n",
       " '401': 771.0092480899999,\n",
       " '401.1': 1867.7121029399998,\n",
       " '782.3': 522.718134298}"
      ]
     },
     "execution_count": 230,
     "metadata": {},
     "output_type": "execute_result"
    }
   ],
   "source": [
    "jdata['High']"
   ]
  },
  {
   "cell_type": "code",
   "execution_count": 231,
   "metadata": {
    "collapsed": false
   },
   "outputs": [],
   "source": [
    "import json\n",
    "jdata = json.JSONEncoder().encode(jdata)"
   ]
  },
  {
   "cell_type": "code",
   "execution_count": 233,
   "metadata": {
    "collapsed": false
   },
   "outputs": [],
   "source": [
    "os.chdir('/Users/ItelinaMa/Documents/Metis/McNulty/Visualization')\n",
    "with open(\"medicaldata.json\", \"w\") as outfile:\n",
    "    json.dump(jdata, outfile, indent=4)"
   ]
  },
  {
   "cell_type": "code",
   "execution_count": 232,
   "metadata": {
    "collapsed": false
   },
   "outputs": [
    {
     "data": {
      "text/plain": [
       "'{\"High\": {\"272.2\": 2385.4041013300002, \"782.3\": 522.718134298, \"401\": 771.0092480899999, \"401.1\": 1867.7121029399998}, \"HighMedium\": {\"272.0\": 876.5581021309999, \"401.9\": 1790.3096099699999, \"272.4\": 1120.8283072000002, \"V04.81\": 508.64495376}, \"MediumLow\": {\"724.2\": 1394.25010052, \"300.02\": 619.219943707, \"477.9\": 943.908323281, \"780.79\": 817.2496984320001, \"465.9\": 925.814234017, \"477\": 513.6710896660001, \"466.0\": 1354.0410132700001, \"305.1\": 633.2931242459999}, \"Medium\": {\"786.2\": 1041.41535987, \"599.0\": 877.563329312, \"244.9\": 905.70969039, \"530.81\": 1291.71692803, \"268.9\": 614.193807801}, \"Low\": {\"784.0\": 538.8017692000001, \"300.00\": 791.113791717, \"311\": 645.355850422, \"461.9\": 779.0510655410001, \"780.52\": 655.408122236, \"V70.0\": 1574.18576598}}'"
      ]
     },
     "execution_count": 232,
     "metadata": {},
     "output_type": "execute_result"
    }
   ],
   "source": [
    "jdata"
   ]
  },
  {
   "cell_type": "code",
   "execution_count": null,
   "metadata": {
    "collapsed": true
   },
   "outputs": [],
   "source": []
  }
 ],
 "metadata": {
  "kernelspec": {
   "display_name": "Python 2",
   "language": "python",
   "name": "python2"
  },
  "language_info": {
   "codemirror_mode": {
    "name": "ipython",
    "version": 2
   },
   "file_extension": ".py",
   "mimetype": "text/x-python",
   "name": "python",
   "nbconvert_exporter": "python",
   "pygments_lexer": "ipython2",
   "version": "2.7.10"
  }
 },
 "nbformat": 4,
 "nbformat_minor": 0
}
