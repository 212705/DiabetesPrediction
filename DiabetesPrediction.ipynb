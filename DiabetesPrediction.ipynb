{
 "cells": [
  {
   "cell_type": "code",
   "execution_count": 2,
   "metadata": {
    "collapsed": true
   },
   "outputs": [],
   "source": [
    "import pandas as pd\n",
    "import numpy as np\n",
    "from collections import defaultdict\n",
    "import matplotlib\n",
    "import matplotlib.pyplot as plt\n",
    "import os\n",
    "import re"
   ]
  },
  {
   "cell_type": "code",
   "execution_count": 3,
   "metadata": {
    "collapsed": false
   },
   "outputs": [],
   "source": [
    "os.chdir('/Users/ItelinaMa/Documents/Metis/McNulty/trainingSet')"
   ]
  },
  {
   "cell_type": "code",
   "execution_count": 4,
   "metadata": {
    "collapsed": false
   },
   "outputs": [],
   "source": [
    "diagnosisT = pd.read_csv('training_SyncDiagnosis.csv')\n",
    "allergyT = pd.read_csv('training_SyncAllergy.csv')\n",
    "immunT = pd.read_csv('training_SyncImmunization.csv')\n",
    "labObsT = pd.read_csv('training_SyncLabObservation.csv')\n",
    "labPanT = pd.read_csv('training_SyncLabPanel.csv')\n",
    "labResT = pd.read_csv('training_SyncLabResult.csv')\n",
    "medicationT = pd.read_csv('training_SyncMedication.csv')\n",
    "patientT = pd.read_csv('training_SyncPatient.csv')\n",
    "patientCondT = pd.read_csv('training_SyncPatientCondition.csv')\n",
    "smokingT = pd.read_csv('training_SyncPatientSmokingStatus.csv')\n",
    "prescripT = pd.read_csv('training_SyncPrescription.csv')\n",
    "trnscrpT = pd.read_csv('training_SyncTranscript.csv')\n",
    "trnscrpAT = pd.read_csv('training_SyncTranscriptAllergy.csv')\n",
    "trnscrpDT = pd.read_csv('training_SyncTranscriptDiagnosis.csv')\n",
    "trnscrptMT = pd.read_csv('training_SyncTranscriptMedication.csv')\n",
    "myfileT = pd.read_csv('myfile.csv')\n",
    "conditionT = pd.read_csv('SyncCondition.csv')\n",
    "smokingT = pd.read_csv('SyncSmokingStatus.csv')"
   ]
  },
  {
   "cell_type": "code",
   "execution_count": 5,
   "metadata": {
    "collapsed": false
   },
   "outputs": [
    {
     "data": {
      "text/plain": [
       "Index([u'DiagnosisGuid', u'PatientGuid', u'ICD9Code', u'DiagnosisDescription',\n",
       "       u'StartYear', u'StopYear', u'Acute', u'UserGuid'],\n",
       "      dtype='object')"
      ]
     },
     "execution_count": 5,
     "metadata": {},
     "output_type": "execute_result"
    }
   ],
   "source": [
    "diagnosisT.columns"
   ]
  },
  {
   "cell_type": "markdown",
   "metadata": {},
   "source": [
    "#Approach 1\n",
    "\n",
    "Output file for modeling is patientdata"
   ]
  },
  {
   "cell_type": "markdown",
   "metadata": {},
   "source": [
    "###Part I: Creating Condition-based Features\n",
    "Complications/Risk Factors for diabetes\n",
    "1. CCS Labels Source: https://www.hcup-us.ahrq.gov/toolssoftware/ccs/ccs.jsp\n",
    "2. Diabetes Type 2 Source: https://en.wikipedia.org/wiki/Diabetes_mellitus_type_2"
   ]
  },
  {
   "cell_type": "code",
   "execution_count": 6,
   "metadata": {
    "collapsed": true
   },
   "outputs": [],
   "source": [
    "os.chdir('/Users/ItelinaMa/Documents/Metis/McNulty/Single_Level_CCS_2015')"
   ]
  },
  {
   "cell_type": "code",
   "execution_count": 7,
   "metadata": {
    "collapsed": true
   },
   "outputs": [],
   "source": [
    "def cleanString(text):\n",
    "    result = re.sub(\"[\\'|\\\"]\", \"\", text)\n",
    "    return result"
   ]
  },
  {
   "cell_type": "code",
   "execution_count": 8,
   "metadata": {
    "collapsed": false
   },
   "outputs": [],
   "source": [
    "CCSN = pd.read_csv('$dxref 2015.csv', skiprows=1)\n",
    "CCSN.columns = [cleanString(item) for item in CCSN.columns]\n",
    "for item in CCSN.columns:\n",
    "    CCSN[item] = CCSN[item].map(cleanString)\n",
    "    CCSN[item] = CCSN[item].apply(str.strip)\n",
    "CCSN.columns = ['ICD9', 'CCSN', 'CCS', 'ICD9Descr', 'OptCCS', 'OptCCSDescrp']\n",
    "CCSN = CCSN.ix[1:, ['ICD9','CCSN']]"
   ]
  },
  {
   "cell_type": "code",
   "execution_count": 9,
   "metadata": {
    "collapsed": false
   },
   "outputs": [],
   "source": [
    "CCSLabel = pd.read_csv('dxlabel 2013.csv')\n",
    "CCSLabel = CCSLabel.ix[3:, :]\n",
    "CCSLabel.columns = ['CCSN', 'CCSLabel']\n",
    "CCS = pd.merge(CCSN, CCSLabel, how='inner', on =['CCSN'])"
   ]
  },
  {
   "cell_type": "code",
   "execution_count": 10,
   "metadata": {
    "collapsed": true
   },
   "outputs": [],
   "source": [
    "def stripPeriods(text):\n",
    "    result = re.sub('\\.', \"\", text)\n",
    "    return result"
   ]
  },
  {
   "cell_type": "code",
   "execution_count": 11,
   "metadata": {
    "collapsed": true
   },
   "outputs": [],
   "source": [
    "def ICD9Label(text):\n",
    "    if bool(re.match('14[0-9]|2[0-3][0-9]', text)) == True:\n",
    "        return 'neoplasms'\n",
    "    elif bool(re.match('2[4-7][0-9]', text)) == True:\n",
    "        return 'endoctrine'\n",
    "    elif bool(re.match('28[0-9]', text)) == True:\n",
    "        return 'blood'\n",
    "    elif bool(re.match('29[0-9]|3[0-1][0-9]', text)) == True:\n",
    "        return 'mental'\n",
    "    elif bool(re.match('3[2-5][0-9]', text)) == True:\n",
    "        return 'nervous'\n",
    "    elif bool(re.match('3[6-8][0-9]', text)) == True:\n",
    "        return 'sense'\n",
    "    elif bool(re.match('39[0-9]|4[0-5][0-9]', text)) == True:\n",
    "        return 'circulatory'\n",
    "    elif bool(re.match('4[6-9][0-9]|5[0-1][0-9]', text)) == True:\n",
    "        return 'respiratory'\n",
    "    elif bool(re.match('5[2-7][0-9]', text)) == True:\n",
    "        return 'digestive'\n",
    "    elif bool(re.match('5[8-9][0-9]|6[0-2][0-9]', text)) == True:\n",
    "        return 'genitourinary'\n",
    "    elif bool(re.match('6[3-7][0-9]', text)) == True:\n",
    "        return 'pregnancy'    \n",
    "    elif bool(re.match('6[8-9][0-9]|70[0-9]', text)) == True:\n",
    "        return 'skin'   \n",
    "    elif bool(re.match('7[1-3][0-9]', text)) == True:\n",
    "        return 'musculoskeletal'       \n",
    "    elif bool(re.match('7[4-5][0-9]', text)) == True:\n",
    "        return 'congenital' \n",
    "    elif bool(re.match('7[6-7][0-9]', text)) == True:\n",
    "        return 'perinatal' \n",
    "    elif bool(re.match('7[8-9][0-9]', text)) == True:\n",
    "        return 'symptoms or ill-defined' \n",
    "    elif bool(re.match('8[0-9][0-9]|9[0-9][0-9]', text)) == True:\n",
    "        return 'injuries' \n",
    "    elif bool(re.match('E|V', text)) == True:\n",
    "        return 'suppl' \n",
    "    else:\n",
    "        return 'infectious'"
   ]
  },
  {
   "cell_type": "code",
   "execution_count": 12,
   "metadata": {
    "collapsed": true
   },
   "outputs": [],
   "source": [
    "def heartDisease(text):\n",
    "    if bool(re.match('41[0-4]|42[0-5]|427|429|74[5-6]', text)) == True:\n",
    "        return 1\n",
    "    return 0\n",
    "def CAD(text):\n",
    "    if bool(re.match('41[0-4]|429', text)) == True:\n",
    "        return 1\n",
    "    return 0\n",
    "def cardiomyopathy(text):\n",
    "    if bool(re.match('42[0-5]', text)) == True:\n",
    "        return 1\n",
    "    return 0\n",
    "def CHF(text):\n",
    "    if bool(re.match('426', text)) == True:\n",
    "        return 1\n",
    "    return 0\n",
    "def arrhythmias(text):\n",
    "    if bool(re.match('427', text)) == True:\n",
    "        return 1\n",
    "    return 0\n",
    "def heartdefects(text):\n",
    "    if bool(re.match('74[5-6]', text)) == True:\n",
    "        return 1\n",
    "    return 0\n",
    "def stroke(text):\n",
    "    if bool(re.match('43[0-1]|43[3-6]|997.02', text)) == True:\n",
    "        return 1\n",
    "    return 0\n",
    "def sleepApnea(text):\n",
    "    if bool(re.match('727.23|780.57', text)) == True:\n",
    "        return 1\n",
    "    return 0\n",
    "def gestDiab(text):\n",
    "    if bool(re.match('648.8', text)) == True:\n",
    "        return 1\n",
    "    return 0\n",
    "def polyOvary(text):\n",
    "    if bool(re.match('256.4', text)) == True:\n",
    "        return 1\n",
    "    return 0\n",
    "def frozenShoulder(text):\n",
    "    if bool(re.match('726.0', text)) == True:\n",
    "        return 1\n",
    "    return 0\n",
    "def hemochr(text):\n",
    "    if bool(re.match('275.03', text)) == True:\n",
    "        return 1\n",
    "    return 0\n",
    "def hepatitis(text):\n",
    "    if bool(re.match('070.2|070.3', text)) == True:\n",
    "        return 1\n",
    "    return 0\n",
    "def diabCompl(text):\n",
    "    if bool(re.match('250.[1-3]|250.5|250.8|251.[0-2]|270.3|775.6|962.3', text)) == True:\n",
    "        return 1\n",
    "    return 0\n",
    "def kidneyFailure(text):\n",
    "    if bool(re.match('58[4-5]', text)) == True:\n",
    "        return 1\n",
    "    return 0\n",
    "def dementia(text):\n",
    "    if bool(re.match('331|290|294|797', text)) == True:\n",
    "        return 1\n",
    "    return 0\n",
    "def acanthosis(text):\n",
    "    if bool(re.match('701.2', text)) == True:\n",
    "        return 1\n",
    "    return 0\n",
    "def blindness(text):\n",
    "    if bool(re.match('369', text)) == True:\n",
    "        return 1\n",
    "    return 0\n",
    "def sDysfunction(text):\n",
    "    if bool(re.match('302.7', text)) == True:\n",
    "        return 1\n",
    "    return 0\n",
    "def preDiabetes(text):\n",
    "    if bool(re.match('790.29', text)) == True:\n",
    "        return 1\n",
    "    return 0"
   ]
  },
  {
   "cell_type": "code",
   "execution_count": 13,
   "metadata": {
    "collapsed": false
   },
   "outputs": [],
   "source": [
    "diagnosisT['ICD9'] = diagnosisT['ICD9Code'].apply(stripPeriods)\n",
    "diagnosisT['hasHeartDisease'] = diagnosisT['ICD9Code'].apply(heartDisease)\n",
    "diagnosisT['hasCAD'] = diagnosisT['ICD9Code'].apply(CAD)\n",
    "diagnosisT['hasCardiomyo'] = diagnosisT['ICD9Code'].apply(cardiomyopathy)\n",
    "diagnosisT['hasArrhy'] = diagnosisT['ICD9Code'].apply(arrhythmias)\n",
    "diagnosisT['hasHeartDefects'] = diagnosisT['ICD9Code'].apply(heartdefects)\n",
    "diagnosisT['hasCHF'] = diagnosisT['ICD9Code'].apply(CHF)\n",
    "diagnosisT['hasStroke'] = diagnosisT['ICD9Code'].apply(stroke)\n",
    "diagnosisT['hasSleepA'] = diagnosisT['ICD9Code'].apply(sleepApnea)\n",
    "diagnosisT['hasGestDiab'] = diagnosisT['ICD9Code'].apply(gestDiab)\n",
    "diagnosisT['hasPolyO'] = diagnosisT['ICD9Code'].apply(polyOvary)\n",
    "diagnosisT['hasFrozenShoulder'] = diagnosisT['ICD9Code'].apply(frozenShoulder)\n",
    "diagnosisT['hasHemoChr'] = diagnosisT['ICD9Code'].apply(hemochr)\n",
    "diagnosisT['hasHepatitis'] = diagnosisT['ICD9Code'].apply(hepatitis)\n",
    "diagnosisT['hasDiabComp'] = diagnosisT['ICD9Code'].apply(diabCompl)\n",
    "diagnosisT['hasKidneyF'] = diagnosisT['ICD9Code'].apply(kidneyFailure)\n",
    "diagnosisT['hasDementia'] = diagnosisT['ICD9Code'].apply(dementia)\n",
    "diagnosisT['hasAcanthosis'] = diagnosisT['ICD9Code'].apply(acanthosis)\n",
    "diagnosisT['hasBlindness'] = diagnosisT['ICD9Code'].apply(blindness)\n",
    "diagnosisT['hasSDysf'] = diagnosisT['ICD9Code'].apply(sDysfunction)\n",
    "diagnosisT['hasPreDiab'] = diagnosisT['ICD9Code'].apply(preDiabetes)"
   ]
  },
  {
   "cell_type": "code",
   "execution_count": 14,
   "metadata": {
    "collapsed": true
   },
   "outputs": [],
   "source": [
    "dataset1 = pd.merge(diagnosisT, CCS, how='inner', on =['ICD9'])\n",
    "dataset1['ICD9Label'] = dataset1['ICD9Code'].apply(ICD9Label)"
   ]
  },
  {
   "cell_type": "code",
   "execution_count": 15,
   "metadata": {
    "collapsed": false
   },
   "outputs": [],
   "source": [
    "ICD9Labels = dataset1.ix[:, ['PatientGuid', 'ICD9Label']].drop_duplicates()\n",
    "ICD9Labels['counts'] = 1\n",
    "ICD9Labels = ICD9Labels.pivot('PatientGuid', 'ICD9Label', 'counts')\n",
    "ICD9Labels = ICD9Labels.fillna(0).reset_index()"
   ]
  },
  {
   "cell_type": "code",
   "execution_count": 16,
   "metadata": {
    "collapsed": false
   },
   "outputs": [],
   "source": [
    "diagnosisSummary = dataset1.groupby(['PatientGuid'])[['hasHeartDisease', 'hasCHF', 'hasStroke', 'hasSleepA', 'hasGestDiab','hasPolyO', 'hasFrozenShoulder', 'hasHemoChr','hasHepatitis', 'hasDiabComp', 'hasKidneyF', 'hasDementia','hasAcanthosis', 'hasBlindness' ,'hasSDysf', 'hasPreDiab']].max()\n",
    "diagnosisSummary = diagnosisSummary.reset_index()\n",
    "columns = diagnosisSummary.columns[1:]\n",
    "diagnosisSummary['SumRiskFactor'] = diagnosisSummary[columns].sum(axis=1)\n",
    "diagnosisSummary['NoRiskFactor'] = 1\n",
    "diagnosisSummary.loc[diagnosisSummary['SumRiskFactor'] > 0, 'NoRiskFactor'] = 0\n",
    "diagnosisSummary = diagnosisSummary.drop('SumRiskFactor', 1)"
   ]
  },
  {
   "cell_type": "code",
   "execution_count": 17,
   "metadata": {
    "collapsed": false
   },
   "outputs": [],
   "source": [
    "patientdata = pd.merge(patientT, diagnosisSummary, how='inner', on =['PatientGuid'])\n",
    "patientdata = pd.merge(patientdata, ICD9Labels, how='inner', on =['PatientGuid'])"
   ]
  },
  {
   "cell_type": "code",
   "execution_count": 18,
   "metadata": {
    "collapsed": false
   },
   "outputs": [],
   "source": [
    "complfactors = patientdata.columns[6:27]\n",
    "ICD9levels = patientdata.columns[27:]"
   ]
  },
  {
   "cell_type": "code",
   "execution_count": 19,
   "metadata": {
    "collapsed": false
   },
   "outputs": [
    {
     "data": {
      "text/html": [
       "<div>\n",
       "<table border=\"1\" class=\"dataframe\">\n",
       "  <thead>\n",
       "    <tr style=\"text-align: right;\">\n",
       "      <th></th>\n",
       "      <th>No</th>\n",
       "      <th>Yes</th>\n",
       "      <th>Percentage</th>\n",
       "    </tr>\n",
       "  </thead>\n",
       "  <tbody>\n",
       "    <tr>\n",
       "      <th>hasKidneyF</th>\n",
       "      <td>160</td>\n",
       "      <td>195</td>\n",
       "      <td>0.549296</td>\n",
       "    </tr>\n",
       "    <tr>\n",
       "      <th>hasDiabComp</th>\n",
       "      <td>37</td>\n",
       "      <td>26</td>\n",
       "      <td>0.412698</td>\n",
       "    </tr>\n",
       "    <tr>\n",
       "      <th>hasBlindness</th>\n",
       "      <td>16</td>\n",
       "      <td>9</td>\n",
       "      <td>0.360000</td>\n",
       "    </tr>\n",
       "    <tr>\n",
       "      <th>hasSDysf</th>\n",
       "      <td>54</td>\n",
       "      <td>29</td>\n",
       "      <td>0.349398</td>\n",
       "    </tr>\n",
       "    <tr>\n",
       "      <th>hasStroke</th>\n",
       "      <td>117</td>\n",
       "      <td>61</td>\n",
       "      <td>0.342697</td>\n",
       "    </tr>\n",
       "    <tr>\n",
       "      <th>hasSleepA</th>\n",
       "      <td>43</td>\n",
       "      <td>22</td>\n",
       "      <td>0.338462</td>\n",
       "    </tr>\n",
       "    <tr>\n",
       "      <th>hasPreDiab</th>\n",
       "      <td>155</td>\n",
       "      <td>76</td>\n",
       "      <td>0.329004</td>\n",
       "    </tr>\n",
       "    <tr>\n",
       "      <th>hasHeartDisease</th>\n",
       "      <td>792</td>\n",
       "      <td>374</td>\n",
       "      <td>0.320755</td>\n",
       "    </tr>\n",
       "    <tr>\n",
       "      <th>hasHepatitis</th>\n",
       "      <td>13</td>\n",
       "      <td>6</td>\n",
       "      <td>0.315789</td>\n",
       "    </tr>\n",
       "    <tr>\n",
       "      <th>blood</th>\n",
       "      <td>598</td>\n",
       "      <td>271</td>\n",
       "      <td>0.311853</td>\n",
       "    </tr>\n",
       "    <tr>\n",
       "      <th>circulatory</th>\n",
       "      <td>3323</td>\n",
       "      <td>1471</td>\n",
       "      <td>0.306842</td>\n",
       "    </tr>\n",
       "    <tr>\n",
       "      <th>hasDementia</th>\n",
       "      <td>134</td>\n",
       "      <td>57</td>\n",
       "      <td>0.298429</td>\n",
       "    </tr>\n",
       "    <tr>\n",
       "      <th>hasFrozenShoulder</th>\n",
       "      <td>14</td>\n",
       "      <td>5</td>\n",
       "      <td>0.263158</td>\n",
       "    </tr>\n",
       "    <tr>\n",
       "      <th>hasAcanthosis</th>\n",
       "      <td>3</td>\n",
       "      <td>1</td>\n",
       "      <td>0.250000</td>\n",
       "    </tr>\n",
       "    <tr>\n",
       "      <th>digestive</th>\n",
       "      <td>2461</td>\n",
       "      <td>688</td>\n",
       "      <td>0.218482</td>\n",
       "    </tr>\n",
       "    <tr>\n",
       "      <th>congenital</th>\n",
       "      <td>84</td>\n",
       "      <td>23</td>\n",
       "      <td>0.214953</td>\n",
       "    </tr>\n",
       "    <tr>\n",
       "      <th>hasCHF</th>\n",
       "      <td>46</td>\n",
       "      <td>12</td>\n",
       "      <td>0.206897</td>\n",
       "    </tr>\n",
       "    <tr>\n",
       "      <th>NoRiskFactor</th>\n",
       "      <td>6615</td>\n",
       "      <td>1237</td>\n",
       "      <td>0.157539</td>\n",
       "    </tr>\n",
       "    <tr>\n",
       "      <th>hasPolyO</th>\n",
       "      <td>44</td>\n",
       "      <td>5</td>\n",
       "      <td>0.102041</td>\n",
       "    </tr>\n",
       "    <tr>\n",
       "      <th>hasHemoChr</th>\n",
       "      <td>1</td>\n",
       "      <td>0</td>\n",
       "      <td>0.000000</td>\n",
       "    </tr>\n",
       "    <tr>\n",
       "      <th>hasGestDiab</th>\n",
       "      <td>7</td>\n",
       "      <td>0</td>\n",
       "      <td>0.000000</td>\n",
       "    </tr>\n",
       "  </tbody>\n",
       "</table>\n",
       "</div>"
      ],
      "text/plain": [
       "                     No   Yes  Percentage\n",
       "hasKidneyF          160   195    0.549296\n",
       "hasDiabComp          37    26    0.412698\n",
       "hasBlindness         16     9    0.360000\n",
       "hasSDysf             54    29    0.349398\n",
       "hasStroke           117    61    0.342697\n",
       "hasSleepA            43    22    0.338462\n",
       "hasPreDiab          155    76    0.329004\n",
       "hasHeartDisease     792   374    0.320755\n",
       "hasHepatitis         13     6    0.315789\n",
       "blood               598   271    0.311853\n",
       "circulatory        3323  1471    0.306842\n",
       "hasDementia         134    57    0.298429\n",
       "hasFrozenShoulder    14     5    0.263158\n",
       "hasAcanthosis         3     1    0.250000\n",
       "digestive          2461   688    0.218482\n",
       "congenital           84    23    0.214953\n",
       "hasCHF               46    12    0.206897\n",
       "NoRiskFactor       6615  1237    0.157539\n",
       "hasPolyO             44     5    0.102041\n",
       "hasHemoChr            1     0    0.000000\n",
       "hasGestDiab           7     0    0.000000"
      ]
     },
     "execution_count": 19,
     "metadata": {},
     "output_type": "execute_result"
    }
   ],
   "source": [
    "diagsummary = patientdata.groupby(['DMIndicator'])[complfactors].sum().T\n",
    "diagsummary.columns =[\"No\", 'Yes']\n",
    "diagsummary['Percentage'] = diagsummary['Yes']/(diagsummary[\"No\"] + diagsummary[\"Yes\"])\n",
    "diagsummary.sort('Percentage', ascending=False)"
   ]
  },
  {
   "cell_type": "markdown",
   "metadata": {},
   "source": [
    "###Part II: Creating Features based on Transcripts\n",
    "Weight/BMI, Blood Pressure\n",
    "1. BMI Source: http://www.who.int/mediacentre/factsheets/fs311/en/\n",
    "2. Blood Pressure Source: http://www.nhlbi.nih.gov/health/health-topics/topics/hbp"
   ]
  },
  {
   "cell_type": "code",
   "execution_count": 20,
   "metadata": {
    "collapsed": false
   },
   "outputs": [],
   "source": [
    "trnscrpT.head(5)\n",
    "trnscrpT['BMI'] = trnscrpT['BMI'].replace(0.000, np.nan)"
   ]
  },
  {
   "cell_type": "code",
   "execution_count": 21,
   "metadata": {
    "collapsed": false
   },
   "outputs": [],
   "source": [
    "bmi1 = trnscrpT.groupby(['PatientGuid'])['BMI'].mean()\n",
    "bmi2 = trnscrpT.groupby(['PatientGuid'])['BMI'].max()\n",
    "bmi3 = trnscrpT.groupby(['PatientGuid'])['BMI'].min()\n",
    "bmi = pd.concat([bmi1, bmi2, bmi3], axis = 1)\n",
    "bmi.columns = ['MeanBMI', 'MaxBMI', 'MinBMI']\n",
    "bmi['isOverweight'] = 0\n",
    "bmi['isObese'] = 0\n",
    "bmi.loc[(bmi['MeanBMI'] >= 25) & (bmi['MeanBMI'] < 30), 'isOverweight'] = 1\n",
    "bmi.loc[bmi['MeanBMI'] >= 30, 'isObese'] = 1\n",
    "bmi['BMIDiff'] = np.abs(bmi['MaxBMI'] - bmi['MinBMI'])\n",
    "bmi['NotOverweight'] = 1\n",
    "bmi.loc[(bmi['isOverweight'] == 1) | (bmi['isObese'] == 1), 'NotOverweight'] = 0 \n",
    "bmi = bmi.reset_index()"
   ]
  },
  {
   "cell_type": "code",
   "execution_count": 22,
   "metadata": {
    "collapsed": false
   },
   "outputs": [
    {
     "data": {
      "text/plain": [
       "(9915, 49)"
      ]
     },
     "execution_count": 22,
     "metadata": {},
     "output_type": "execute_result"
    }
   ],
   "source": [
    "patientdata = pd.merge(patientdata, bmi, how='inner', on =['PatientGuid'])\n",
    "patientdata.shape"
   ]
  },
  {
   "cell_type": "code",
   "execution_count": 23,
   "metadata": {
    "collapsed": false
   },
   "outputs": [],
   "source": [
    "bloodpressure1 = trnscrpT.groupby(['PatientGuid'])[['SystolicBP', 'DiastolicBP']].mean()\n",
    "bloodpressure2 = trnscrpT.groupby(['PatientGuid'])[['SystolicBP', 'DiastolicBP']].max()\n",
    "bloodpressure3 = trnscrpT.groupby(['PatientGuid'])[['SystolicBP', 'DiastolicBP']].min()\n",
    "bloodpressure = pd.concat([bloodpressure1, bloodpressure2, bloodpressure3], axis = 1)\n",
    "bloodpressure.columns = ['meanSystolicBP', 'meanDiastolicBP', 'maxSystolicBP', 'maxDiastolicBP', 'minSystolicBP', 'minDiastolicBP']\n",
    "bloodpressure['SystDiff'] = np.abs(bloodpressure['maxSystolicBP'] - bloodpressure['minSystolicBP'])\n",
    "bloodpressure['DiastDiff'] = np.abs(bloodpressure['maxDiastolicBP'] - bloodpressure['minDiastolicBP'])\n",
    "bloodpressure['isPreHyp'] = 0\n",
    "bloodpressure['isStage1HBP'] = 0\n",
    "bloodpressure['isStage2HBP'] = 0\n",
    "bloodpressure.loc[((bloodpressure['meanSystolicBP'] >= 120) & (bloodpressure['meanSystolicBP'] < 140)) | ((bloodpressure['meanDiastolicBP'] >= 80) & (bloodpressure['meanDiastolicBP'] < 90)), 'isPreHyp'] = 1\n",
    "bloodpressure.loc[((bloodpressure['meanSystolicBP'] >= 140) & (bloodpressure['meanSystolicBP'] < 160)) | ((bloodpressure['meanDiastolicBP'] >= 90) & (bloodpressure['meanDiastolicBP'] < 100)), 'isStage1HBP'] = 1\n",
    "bloodpressure.loc[(bloodpressure['meanSystolicBP'] >= 160) | (bloodpressure['meanDiastolicBP'] >= 100), 'isStage2HBP'] = 1\n",
    "bloodpressure.loc[bloodpressure['isStage2HBP'] == 1, 'isStage1HBP'] = 0\n",
    "bloodpressure.loc[bloodpressure['isStage1HBP'] == 1, 'isPreHyp'] = 0\n",
    "bloodpressure = bloodpressure.reset_index()"
   ]
  },
  {
   "cell_type": "code",
   "execution_count": 24,
   "metadata": {
    "collapsed": false
   },
   "outputs": [
    {
     "data": {
      "text/plain": [
       "(9915, 60)"
      ]
     },
     "execution_count": 24,
     "metadata": {},
     "output_type": "execute_result"
    }
   ],
   "source": [
    "patientdata = pd.merge(patientdata, bloodpressure, how='inner', on =['PatientGuid'])\n",
    "patientdata.shape"
   ]
  },
  {
   "cell_type": "code",
   "execution_count": 25,
   "metadata": {
    "collapsed": true
   },
   "outputs": [],
   "source": [
    "patientdata['Age'] = 2015 - patientdata['YearOfBirth']"
   ]
  },
  {
   "cell_type": "code",
   "execution_count": 26,
   "metadata": {
    "collapsed": false
   },
   "outputs": [
    {
     "data": {
      "text/html": [
       "<div>\n",
       "<table border=\"1\" class=\"dataframe\">\n",
       "  <thead>\n",
       "    <tr style=\"text-align: right;\">\n",
       "      <th>DMIndicator</th>\n",
       "      <th>0</th>\n",
       "      <th>1</th>\n",
       "    </tr>\n",
       "  </thead>\n",
       "  <tbody>\n",
       "    <tr>\n",
       "      <th>BMIDiff</th>\n",
       "      <td>117.663003</td>\n",
       "      <td>43.137776</td>\n",
       "    </tr>\n",
       "    <tr>\n",
       "      <th>SystDiff</th>\n",
       "      <td>27.054550</td>\n",
       "      <td>36.220179</td>\n",
       "    </tr>\n",
       "    <tr>\n",
       "      <th>DiastDiff</th>\n",
       "      <td>18.722756</td>\n",
       "      <td>22.703100</td>\n",
       "    </tr>\n",
       "  </tbody>\n",
       "</table>\n",
       "</div>"
      ],
      "text/plain": [
       "DMIndicator           0          1\n",
       "BMIDiff      117.663003  43.137776\n",
       "SystDiff      27.054550  36.220179\n",
       "DiastDiff     18.722756  22.703100"
      ]
     },
     "execution_count": 26,
     "metadata": {},
     "output_type": "execute_result"
    }
   ],
   "source": [
    "patientdata.groupby(['DMIndicator'])['BMIDiff', 'SystDiff', 'DiastDiff'].mean().T"
   ]
  },
  {
   "cell_type": "code",
   "execution_count": 27,
   "metadata": {
    "collapsed": false
   },
   "outputs": [
    {
     "data": {
      "text/html": [
       "<div>\n",
       "<table border=\"1\" class=\"dataframe\">\n",
       "  <thead>\n",
       "    <tr style=\"text-align: right;\">\n",
       "      <th></th>\n",
       "      <th>No</th>\n",
       "      <th>Yes</th>\n",
       "      <th>Percentage</th>\n",
       "    </tr>\n",
       "  </thead>\n",
       "  <tbody>\n",
       "    <tr>\n",
       "      <th>isObese</th>\n",
       "      <td>2841</td>\n",
       "      <td>1054</td>\n",
       "      <td>0.270603</td>\n",
       "    </tr>\n",
       "    <tr>\n",
       "      <th>isOverweight</th>\n",
       "      <td>2686</td>\n",
       "      <td>586</td>\n",
       "      <td>0.179095</td>\n",
       "    </tr>\n",
       "    <tr>\n",
       "      <th>NotOverweight</th>\n",
       "      <td>2485</td>\n",
       "      <td>263</td>\n",
       "      <td>0.095706</td>\n",
       "    </tr>\n",
       "  </tbody>\n",
       "</table>\n",
       "</div>"
      ],
      "text/plain": [
       "                 No   Yes  Percentage\n",
       "isObese        2841  1054    0.270603\n",
       "isOverweight   2686   586    0.179095\n",
       "NotOverweight  2485   263    0.095706"
      ]
     },
     "execution_count": 27,
     "metadata": {},
     "output_type": "execute_result"
    }
   ],
   "source": [
    "bodyweight = patientdata.groupby(['DMIndicator'])['isOverweight','isObese', 'NotOverweight'].sum().T\n",
    "bodyweight.columns =[\"No\", 'Yes']\n",
    "bodyweight['Percentage'] = bodyweight['Yes']/(bodyweight[\"No\"] + bodyweight[\"Yes\"])\n",
    "bodyweight.sort('Percentage', ascending=False)"
   ]
  },
  {
   "cell_type": "code",
   "execution_count": 28,
   "metadata": {
    "collapsed": false
   },
   "outputs": [
    {
     "data": {
      "text/html": [
       "<div>\n",
       "<table border=\"1\" class=\"dataframe\">\n",
       "  <thead>\n",
       "    <tr style=\"text-align: right;\">\n",
       "      <th></th>\n",
       "      <th>No</th>\n",
       "      <th>Yes</th>\n",
       "      <th>Percentage</th>\n",
       "    </tr>\n",
       "  </thead>\n",
       "  <tbody>\n",
       "    <tr>\n",
       "      <th>isStage2HBP</th>\n",
       "      <td>128</td>\n",
       "      <td>67</td>\n",
       "      <td>0.343590</td>\n",
       "    </tr>\n",
       "    <tr>\n",
       "      <th>isStage1HBP</th>\n",
       "      <td>1008</td>\n",
       "      <td>397</td>\n",
       "      <td>0.282562</td>\n",
       "    </tr>\n",
       "    <tr>\n",
       "      <th>isPreHyp</th>\n",
       "      <td>4277</td>\n",
       "      <td>1128</td>\n",
       "      <td>0.208696</td>\n",
       "    </tr>\n",
       "  </tbody>\n",
       "</table>\n",
       "</div>"
      ],
      "text/plain": [
       "               No   Yes  Percentage\n",
       "isStage2HBP   128    67    0.343590\n",
       "isStage1HBP  1008   397    0.282562\n",
       "isPreHyp     4277  1128    0.208696"
      ]
     },
     "execution_count": 28,
     "metadata": {},
     "output_type": "execute_result"
    }
   ],
   "source": [
    "bloodprs = patientdata.groupby(['DMIndicator'])['isPreHyp','isStage1HBP', 'isStage2HBP'].sum().T\n",
    "bloodprs.columns =[\"No\", 'Yes']\n",
    "bloodprs['Percentage'] = bloodprs['Yes']/(bloodprs[\"No\"] + bloodprs[\"Yes\"])\n",
    "bloodprs.sort('Percentage', ascending=False)"
   ]
  },
  {
   "cell_type": "code",
   "execution_count": 29,
   "metadata": {
    "collapsed": false
   },
   "outputs": [
    {
     "data": {
      "text/plain": [
       "0    8012\n",
       "1    1903\n",
       "dtype: int64"
      ]
     },
     "execution_count": 29,
     "metadata": {},
     "output_type": "execute_result"
    }
   ],
   "source": [
    "patientdata.DMIndicator.value_counts()"
   ]
  },
  {
   "cell_type": "code",
   "execution_count": 30,
   "metadata": {
    "collapsed": false
   },
   "outputs": [
    {
     "data": {
      "text/plain": [
       "<matplotlib.axes._subplots.AxesSubplot at 0x1143b9850>"
      ]
     },
     "execution_count": 30,
     "metadata": {},
     "output_type": "execute_result"
    },
    {
     "data": {
      "image/png": "[encoded data removed]",
      "text/plain": [
       "<matplotlib.figure.Figure at 0x1143b9350>"
      ]
     },
     "metadata": {},
     "output_type": "display_data"
    }
   ],
   "source": [
    "%matplotlib inline\n",
    "matplotlib.style.use('ggplot')\n",
    "import seaborn as sns\n",
    "ax = sns.countplot(y=\"DMIndicator\", data=patientdata)\n",
    "ax"
   ]
  },
  {
   "cell_type": "markdown",
   "metadata": {},
   "source": [
    "#Approach 2\n",
    "\n",
    "Output file for modeling is patientdata2"
   ]
  },
  {
   "cell_type": "code",
   "execution_count": 31,
   "metadata": {
    "collapsed": false
   },
   "outputs": [],
   "source": [
    "os.chdir('/Users/ItelinaMa/Documents/Metis/McNulty/trainingSet')\n",
    "diagnosisT = pd.read_csv('training_SyncDiagnosis.csv')\n",
    "allergyT = pd.read_csv('training_SyncAllergy.csv')\n",
    "immunT = pd.read_csv('training_SyncImmunization.csv')\n",
    "labObsT = pd.read_csv('training_SyncLabObservation.csv')\n",
    "labPanT = pd.read_csv('training_SyncLabPanel.csv')\n",
    "labResT = pd.read_csv('training_SyncLabResult.csv')\n",
    "medicationT = pd.read_csv('training_SyncMedication.csv')\n",
    "patientT = pd.read_csv('training_SyncPatient.csv')\n",
    "patientCondT = pd.read_csv('training_SyncPatientCondition.csv')\n",
    "smokingT = pd.read_csv('training_SyncPatientSmokingStatus.csv')\n",
    "prescripT = pd.read_csv('training_SyncPrescription.csv')\n",
    "trnscrpT = pd.read_csv('training_SyncTranscript.csv')\n",
    "trnscrpAT = pd.read_csv('training_SyncTranscriptAllergy.csv')\n",
    "trnscrpDT = pd.read_csv('training_SyncTranscriptDiagnosis.csv')\n",
    "trnscrptMT = pd.read_csv('training_SyncTranscriptMedication.csv')\n",
    "myfileT = pd.read_csv('myfile.csv')\n",
    "conditionT = pd.read_csv('SyncCondition.csv')\n",
    "smokingT = pd.read_csv('SyncSmokingStatus.csv')"
   ]
  },
  {
   "cell_type": "markdown",
   "metadata": {},
   "source": [
    "#####Detailed Analysis of Conditions had by Diabetic Patients"
   ]
  },
  {
   "cell_type": "code",
   "execution_count": 32,
   "metadata": {
    "collapsed": true
   },
   "outputs": [],
   "source": [
    "import numpy as np\n",
    "import pandas as pd\n",
    "from random import sample"
   ]
  },
  {
   "cell_type": "code",
   "execution_count": 33,
   "metadata": {
    "collapsed": false
   },
   "outputs": [],
   "source": [
    "def getDiabeticCodes(dinput):\n",
    "    diaganalysis=dinput\n",
    "    diaganalysis = diaganalysis.groupby(['DMIndicator', 'ICD9Code'])['PatientGuid'].value_counts().reset_index()\n",
    "    diaganalysis.columns = ['DMIndicator','ICD9Code','level_2', 'Counts']\n",
    "    diaganalysis.loc[diaganalysis['Counts'] > 1, 'Counts'] = 1\n",
    "    diaganalysis = diaganalysis.groupby(['ICD9Code','DMIndicator', ])['Counts'].sum().reset_index()\n",
    "    diaganalysis = diaganalysis.pivot('ICD9Code', 'DMIndicator', 'Counts')\n",
    "    diaganalysis = diaganalysis.fillna(0)\n",
    "    diaganalysis.columns = ['No', 'Yes']\n",
    "    diaganalysis = diaganalysis.reset_index()\n",
    "    diaganalysis['Percentage'] = diaganalysis['Yes']/(diaganalysis['No'] + diaganalysis['Yes'])\n",
    "    diaganalysis['total'] = diaganalysis['No'] + diaganalysis['Yes']\n",
    "    summarydata = diaganalysis[(diaganalysis['total'] >= 5) & (diaganalysis['Percentage'] >= 0.20)][['ICD9Code', 'No', 'Yes', 'Percentage', 'total']]\n",
    "    ICD9list = summarydata['ICD9Code'].unique()\n",
    "    return ICD9list"
   ]
  },
  {
   "cell_type": "code",
   "execution_count": 34,
   "metadata": {
    "collapsed": true
   },
   "outputs": [],
   "source": [
    "diaganalysis = pd.merge(patientT, diagnosisT, on=['PatientGuid'])"
   ]
  },
  {
   "cell_type": "code",
   "execution_count": 35,
   "metadata": {
    "collapsed": false
   },
   "outputs": [],
   "source": [
    "diagnosisT['ICD9Label'] = diagnosisT['ICD9Code'].apply(ICD9Label)\n",
    "diagnosisT['Counts'] = 1\n",
    "ICD9Labeldata = diagnosisT.groupby(['PatientGuid', 'ICD9Label'])['Counts'].sum().reset_index().pivot('PatientGuid', 'ICD9Label', 'Counts').reset_index()\n",
    "ICD9Labeldata = ICD9Labeldata.fillna(0)"
   ]
  },
  {
   "cell_type": "code",
   "execution_count": 36,
   "metadata": {
    "collapsed": false
   },
   "outputs": [
    {
     "name": "stdout",
     "output_type": "stream",
     "text": [
      "Index([u'PatientGuid', u'blood', u'circulatory', u'congenital', u'digestive',\n",
      "       u'endoctrine', u'genitourinary', u'infectious', u'injuries', u'mental',\n",
      "       u'musculoskeletal', u'neoplasms', u'nervous', u'perinatal',\n",
      "       u'pregnancy', u'respiratory', u'sense', u'skin', u'suppl',\n",
      "       u'symptoms or ill-defined'],\n",
      "      dtype='object', name=u'ICD9Label')\n"
     ]
    }
   ],
   "source": [
    "print ICD9Labeldata.columns"
   ]
  },
  {
   "cell_type": "code",
   "execution_count": 37,
   "metadata": {
    "collapsed": false
   },
   "outputs": [],
   "source": [
    "rindexlist = []\n",
    "i = 0\n",
    "while i < 25:\n",
    "    rindex = np.array(sample(xrange(len(diaganalysis)), 63000))\n",
    "    rindexlist.append(rindex)\n",
    "    i += 1\n",
    "datasets = []\n",
    "for item in rindexlist:\n",
    "    dataset = diaganalysis.ix[item]\n",
    "    datasets.append(dataset)\n",
    "ICD9list = []\n",
    "for item in datasets:\n",
    "    ICD9 = set(getDiabeticCodes(item))\n",
    "    ICD9list.append(ICD9)\n",
    "commonICD9 = ICD9list[0]\n",
    "for i in range(1, len(ICD9list)):\n",
    "    commonICD9 = commonICD9.intersection(ICD9list[i])\n",
    "diaganalysis['RiskFactors'] = diaganalysis[diaganalysis['ICD9Code'].isin(commonICD9)]['ICD9Code']\n",
    "riskfactors = pd.get_dummies(diaganalysis['RiskFactors'])\n",
    "riskfactors = riskfactors.fillna(0)\n",
    "diaganalysis = diaganalysis['PatientGuid']\n",
    "diaganalysis = pd.concat([diaganalysis, riskfactors, ], axis=1)"
   ]
  },
  {
   "cell_type": "code",
   "execution_count": 38,
   "metadata": {
    "collapsed": false
   },
   "outputs": [
    {
     "name": "stdout",
     "output_type": "stream",
     "text": [
      "233 234\n"
     ]
    }
   ],
   "source": [
    "print len(commonICD9), diaganalysis.shape[1]"
   ]
  },
  {
   "cell_type": "code",
   "execution_count": 39,
   "metadata": {
    "collapsed": false
   },
   "outputs": [
    {
     "name": "stdout",
     "output_type": "stream",
     "text": [
      "Index([u'PatientGuid', u'008.69', u'009.0', u'009.3', u'053.8', u'053.9',\n",
      "       u'070.54', u'110.4', u'110.5', u'110.8', \n",
      "       ...\n",
      "       u'V15.81', u'V15.88', u'V45.81', u'V45.82', u'V58.61', u'V65.42',\n",
      "       u'V69.1', u'V72.81', u'V76.51', u'V79.0'],\n",
      "      dtype='object', length=234)\n"
     ]
    }
   ],
   "source": [
    "print diaganalysis.columns"
   ]
  },
  {
   "cell_type": "code",
   "execution_count": 40,
   "metadata": {
    "collapsed": false
   },
   "outputs": [],
   "source": [
    "diagsummary = diaganalysis.groupby(['PatientGuid']).sum().reset_index()"
   ]
  },
  {
   "cell_type": "code",
   "execution_count": 41,
   "metadata": {
    "collapsed": false
   },
   "outputs": [],
   "source": [
    "patientdata2 = pd.merge(patientT, ICD9Labeldata, how='inner', on =['PatientGuid'])\n",
    "patientdata2 = pd.merge(patientdata2, diagnosisSummary, how='inner', on =['PatientGuid'])\n",
    "patientdata2 = pd.merge(patientdata2, diagsummary, how='inner', on =['PatientGuid'])\n",
    "patientdata2 = pd.merge(patientdata2, bloodpressure, how='inner', on =['PatientGuid'])\n",
    "patientdata2 = pd.merge(patientdata2, bmi, how='inner', on =['PatientGuid'])\n",
    "patientdata2['Age'] = 2015 - patientdata2['YearOfBirth']"
   ]
  },
  {
   "cell_type": "markdown",
   "metadata": {},
   "source": [
    "##Approach 3: Use Cosine Similarity to automatically detect top diseases\n",
    "\n",
    "output is patientdata3"
   ]
  },
  {
   "cell_type": "code",
   "execution_count": 42,
   "metadata": {
    "collapsed": true
   },
   "outputs": [],
   "source": [
    "os.chdir('/Users/ItelinaMa/Documents/Metis/McNulty/trainingSet')\n",
    "diagnosisT = pd.read_csv('training_SyncDiagnosis.csv')\n",
    "allergyT = pd.read_csv('training_SyncAllergy.csv')\n",
    "immunT = pd.read_csv('training_SyncImmunization.csv')\n",
    "labObsT = pd.read_csv('training_SyncLabObservation.csv')\n",
    "labPanT = pd.read_csv('training_SyncLabPanel.csv')\n",
    "labResT = pd.read_csv('training_SyncLabResult.csv')\n",
    "medicationT = pd.read_csv('training_SyncMedication.csv')\n",
    "patientT = pd.read_csv('training_SyncPatient.csv')\n",
    "patientCondT = pd.read_csv('training_SyncPatientCondition.csv')\n",
    "smokingT = pd.read_csv('training_SyncPatientSmokingStatus.csv')\n",
    "prescripT = pd.read_csv('training_SyncPrescription.csv')\n",
    "trnscrpT = pd.read_csv('training_SyncTranscript.csv')\n",
    "trnscrpAT = pd.read_csv('training_SyncTranscriptAllergy.csv')\n",
    "trnscrpDT = pd.read_csv('training_SyncTranscriptDiagnosis.csv')\n",
    "trnscrptMT = pd.read_csv('training_SyncTranscriptMedication.csv')\n",
    "myfileT = pd.read_csv('myfile.csv')\n",
    "conditionT = pd.read_csv('SyncCondition.csv')\n",
    "smokingT = pd.read_csv('SyncSmokingStatus.csv')"
   ]
  },
  {
   "cell_type": "code",
   "execution_count": 43,
   "metadata": {
    "collapsed": true
   },
   "outputs": [],
   "source": [
    "diaganalysis = pd.merge(patientT, diagnosisT, on=['PatientGuid'])"
   ]
  },
  {
   "cell_type": "code",
   "execution_count": 44,
   "metadata": {
    "collapsed": false
   },
   "outputs": [],
   "source": [
    "chidata = diaganalysis[['PatientGuid', 'DMIndicator', 'ICD9Code']].drop_duplicates()\n",
    "chidata.index = chidata['PatientGuid']\n",
    "dummies = pd.get_dummies(chidata['ICD9Code']).reset_index()\n",
    "dummies = dummies.groupby(['PatientGuid'])[dummies.columns[1:]].sum()\n",
    "dummies = dummies.replace(2, 1)\n",
    "chidata = chidata[['PatientGuid', 'DMIndicator']]\n",
    "chidata = chidata.drop_duplicates()"
   ]
  },
  {
   "cell_type": "code",
   "execution_count": 45,
   "metadata": {
    "collapsed": false
   },
   "outputs": [
    {
     "name": "stdout",
     "output_type": "stream",
     "text": [
      "(9948, 2) (9948, 3943)\n"
     ]
    }
   ],
   "source": [
    "print chidata.shape, dummies.shape"
   ]
  },
  {
   "cell_type": "code",
   "execution_count": 46,
   "metadata": {
    "collapsed": false
   },
   "outputs": [],
   "source": [
    "chidata = pd.concat([chidata, dummies], axis=1)\n",
    "chidata['DMIndicator'] = chidata['DMIndicator'].astype(float)"
   ]
  },
  {
   "cell_type": "code",
   "execution_count": 47,
   "metadata": {
    "collapsed": false
   },
   "outputs": [],
   "source": [
    "import numpy\n",
    "import scipy.stats as scs\n",
    "from collections import defaultdict\n",
    "from scipy import spatial\n",
    "from sklearn.metrics import *\n",
    "columns = chidata.columns[2:]\n",
    "chitest = {}\n",
    "cmatrix = {}\n",
    "cos = {}\n",
    "percent = {}\n",
    "for column in columns:\n",
    "    cm = confusion_matrix(np.array(chidata['DMIndicator']), np.array(chidata[column]))\n",
    "    cmatrix[column] = cm\n",
    "    chitest[column]= scs.chi2_contingency(cm)[1]\n",
    "    cos[column] = 1 - spatial.distance.cosine(chidata['DMIndicator'], chidata[column])\n",
    "    percent[column] = float(cm[1][1])/(float(cm[0][1]) + float(cm[1][1]))"
   ]
  },
  {
   "cell_type": "code",
   "execution_count": 48,
   "metadata": {
    "collapsed": false
   },
   "outputs": [
    {
     "name": "stdout",
     "output_type": "stream",
     "text": [
      "[[8042    2]\n",
      " [1857   47]] 0.959183673469 0.153874390573\n"
     ]
    }
   ],
   "source": [
    "print cmatrix['250.61'], percent['250.61'], cos['250.61']"
   ]
  },
  {
   "cell_type": "code",
   "execution_count": 49,
   "metadata": {
    "collapsed": false
   },
   "outputs": [],
   "source": [
    "df1 = pd.DataFrame(chitest.items(), columns = ['ICD9', 'PvalueChi'])\n",
    "df1.index=df1['ICD9']\n",
    "df2 = pd.DataFrame(cos.items(), columns = ['ICD9', 'CosSimilarity'])\n",
    "df2.index=df2['ICD9']\n",
    "df3 = pd.DataFrame(percent.items(), columns = ['ICD9', 'PercentDiabetics'])\n",
    "df3.index=df3['ICD9']\n",
    "df = pd.merge(df1, df2, on='ICD9')\n",
    "df = pd.merge(df, df3, on='ICD9')\n",
    "df = df.sort('CosSimilarity', ascending=False)"
   ]
  },
  {
   "cell_type": "code",
   "execution_count": 50,
   "metadata": {
    "collapsed": false
   },
   "outputs": [
    {
     "data": {
      "text/plain": [
       "<matplotlib.axes._subplots.AxesSubplot at 0x109d74750>"
      ]
     },
     "execution_count": 50,
     "metadata": {},
     "output_type": "execute_result"
    },
    {
     "data": {
      "image/png": "[encoded data removed]",
      "text/plain": [
       "<matplotlib.figure.Figure at 0x114717ad0>"
      ]
     },
     "metadata": {},
     "output_type": "display_data"
    }
   ],
   "source": [
    "%matplotlib inline\n",
    "matplotlib.style.use('ggplot')\n",
    "df['CosSimilarity'].plot(kind='hist', bins=150)"
   ]
  },
  {
   "cell_type": "code",
   "execution_count": 51,
   "metadata": {
    "collapsed": false
   },
   "outputs": [],
   "source": [
    "diaganalysis = pd.merge(patientT, diagnosisT, on=['PatientGuid'])\n",
    "similarICD9 = df[df['CosSimilarity'] > 0.05]['ICD9']\n",
    "diaganalysis['RiskFactors'] = diaganalysis[diaganalysis['ICD9Code'].isin(similarICD9)]['ICD9Code']\n",
    "riskfactors = pd.get_dummies(diaganalysis['RiskFactors'])\n",
    "riskfactors = riskfactors.fillna(0)\n",
    "diaganalysis = diaganalysis['PatientGuid']\n",
    "diaganalysis = pd.concat([diaganalysis, riskfactors], axis=1)\n",
    "diagsummary = diaganalysis.groupby(['PatientGuid']).sum().reset_index()\n",
    "patientdata3 = pd.merge(patientT, ICD9Labeldata, how='inner', on =['PatientGuid'])\n",
    "patientdata3 = pd.merge(patientdata3, diagnosisSummary, how='inner', on =['PatientGuid'])\n",
    "patientdata3 = pd.merge(patientdata3, diagsummary, how='inner', on =['PatientGuid'])\n",
    "patientdata3 = pd.merge(patientdata3, bloodpressure, how='inner', on =['PatientGuid'])\n",
    "patientdata3 = pd.merge(patientdata3, bmi, how='inner', on =['PatientGuid'])\n",
    "patientdata3['Age'] = 2015 - patientdata3['YearOfBirth']"
   ]
  },
  {
   "cell_type": "code",
   "execution_count": 52,
   "metadata": {
    "collapsed": false
   },
   "outputs": [
    {
     "data": {
      "text/plain": [
       "231"
      ]
     },
     "execution_count": 52,
     "metadata": {},
     "output_type": "execute_result"
    }
   ],
   "source": [
    "len(similarICD9)"
   ]
  },
  {
   "cell_type": "markdown",
   "metadata": {},
   "source": [
    "###Modeling"
   ]
  },
  {
   "cell_type": "code",
   "execution_count": 53,
   "metadata": {
    "collapsed": true
   },
   "outputs": [],
   "source": [
    "from sklearn.linear_model import LogisticRegression\n",
    "from sklearn.neighbors import KNeighborsClassifier\n",
    "from sklearn.naive_bayes import GaussianNB\n",
    "from sklearn.svm import SVC\n",
    "from sklearn.tree import DecisionTreeClassifier\n",
    "from sklearn.ensemble import RandomForestClassifier\n",
    "from sklearn.metrics import accuracy_score\n",
    "from sklearn.cross_validation import cross_val_score\n",
    "from sklearn.cross_validation import train_test_split\n",
    "from patsy import dmatrices"
   ]
  },
  {
   "cell_type": "markdown",
   "metadata": {},
   "source": [
    "####Model set 1"
   ]
  },
  {
   "cell_type": "code",
   "execution_count": 54,
   "metadata": {
    "collapsed": false
   },
   "outputs": [
    {
     "data": {
      "text/plain": [
       "Index([u'PatientGuid', u'DMIndicator', u'Gender', u'YearOfBirth', u'State',\n",
       "       u'PracticeGuid', u'hasHeartDisease', u'hasCHF', u'hasStroke',\n",
       "       u'hasSleepA', u'hasGestDiab', u'hasPolyO', u'hasFrozenShoulder',\n",
       "       u'hasHemoChr', u'hasHepatitis', u'hasDiabComp', u'hasKidneyF',\n",
       "       u'hasDementia', u'hasAcanthosis', u'hasBlindness', u'hasSDysf',\n",
       "       u'hasPreDiab', u'NoRiskFactor', u'blood', u'circulatory', u'congenital',\n",
       "       u'digestive', u'endoctrine', u'genitourinary', u'infectious',\n",
       "       u'injuries', u'mental', u'musculoskeletal', u'neoplasms', u'nervous',\n",
       "       u'perinatal', u'pregnancy', u'respiratory', u'sense', u'skin', u'suppl',\n",
       "       u'symptoms or ill-defined', u'MeanBMI', u'MaxBMI', u'MinBMI',\n",
       "       u'isOverweight', u'isObese', u'BMIDiff', u'NotOverweight',\n",
       "       u'meanSystolicBP', u'meanDiastolicBP', u'maxSystolicBP',\n",
       "       u'maxDiastolicBP', u'minSystolicBP', u'minDiastolicBP', u'SystDiff',\n",
       "       u'DiastDiff', u'isPreHyp', u'isStage1HBP', u'isStage2HBP', u'Age'],\n",
       "      dtype='object')"
      ]
     },
     "execution_count": 54,
     "metadata": {},
     "output_type": "execute_result"
    }
   ],
   "source": [
    "patientdata.columns"
   ]
  },
  {
   "cell_type": "code",
   "execution_count": 55,
   "metadata": {
    "collapsed": false
   },
   "outputs": [
    {
     "data": {
      "text/plain": [
       "'DMIndicator ~ Q(\"Gender\") + Q(\"Age\") + Q(hasHeartDisease\") + Q(\"hasCHF\") + Q(\"hasStroke\") + Q(\"hasSleepA\") + Q(\"hasGestDiab\") + Q(\"hasPolyO\") + Q(\"hasFrozenShoulder\") + Q(\"hasHemoChr\") + Q(\"hasHepatitis\") + Q(\"hasDiabComp\") + Q(\"hasKidneyF\") + Q(\"hasDementia\") + Q(\"hasAcanthosis\") + Q(\"hasBlindness\") + Q(\"hasSDysf\") + Q(\"hasPreDiab\") + Q(\"NoRiskFactor\") + Q(\"blood\") + Q(\"circulatory\") + Q(\"congenital\") + Q(\"digestive\") + Q(\"endoctrine\") + Q(\"genitourinary\") + Q(\"infectious\") + Q(\"injuries\") + Q(\"mental\") + Q(\"musculoskeletal\") + Q(\"neoplasms\") + Q(\"nervous\") + Q(\"perinatal\") + Q(\"pregnancy\") + Q(\"respiratory\") + Q(\"sense\") + Q(\"skin\") + Q(\"suppl\") + Q(\"symptoms or ill-defined\") + Q(\"MeanBMI\") + Q(\"MaxBMI\") + Q(\"MinBMI\") + Q(\"isOverweight\") + Q(\"isObese\") + Q(\"BMIDiff\") + Q(\"NotOverweight\") + Q(\"meanSystolicBP\") + Q(\"meanDiastolicBP\") + Q(\"maxSystolicBP\") + Q(\"maxDiastolicBP\") + Q(\"minSystolicBP\") + Q(\"minDiastolicBP\") + Q(\"SystDiff\") + Q(\"DiastDiff\") + Q(\"isPreHyp\") + Q(\"isStage1HBP\") + Q(\"isStage2HBP\") + Q(\"Age\")'"
      ]
     },
     "execution_count": 55,
     "metadata": {},
     "output_type": "execute_result"
    }
   ],
   "source": [
    "modelelements = patientdata.columns[6:64]\n",
    "modelelements = '\") + Q(\"'.join(modelelements)\n",
    "formula = 'DMIndicator ~ Q(\"Gender\") + Q(\"Age\") + Q(' + modelelements + '\")'\n",
    "formula"
   ]
  },
  {
   "cell_type": "code",
   "execution_count": 56,
   "metadata": {
    "collapsed": false
   },
   "outputs": [],
   "source": [
    "#y, X = dmatrices('DMIndicator ~ Q(\"Gender\") + Q(\"Age\") + Q(\"hasHeartDisease\") + Q(\"hasCAD\") + Q(\"hasCardiomyo\") + Q(\"hasArrhy\") + Q(\"hasHeartDefects\") + Q(\"hasStroke\") + Q(\"hasSleepA\") + Q(\"hasGestDiab\") + Q(\"hasPolyO\") + Q(\"hasFrozenShoulder\") + Q(\"hasHemoChr\") + Q(\"hasHepatitis\") + Q(\"hasDiabComp\") + Q(\"hasKidneyF\") + Q(\"hasDementia\") + Q(\"hasAcanthosis\") + Q(\"hasBlindness\") + Q(\"hasSDysf\") + Q(\"hasPreDiab\") + Q(\"blood\") + Q(\"circulatory\") + Q(\"congenital\") + Q(\"digestive\") + Q(\"endoctrine\") + Q(\"genitourinary\") + Q(\"infectious\") + Q(\"injuries\") + Q(\"mental\") + Q(\"musculoskeletal\") + Q(\"neoplasms\") + Q(\"nervous\") + Q(\"perinatal\") + Q(\"pregnancy\") + Q(\"respiratory\") + Q(\"sense\") + Q(\"skin\") + Q(\"suppl\") + Q(\"symptoms or ill-defined\") + Q(\"MeanBMI\") + Q(\"MaxBMI\") + Q(\"MinBMI\") + Q(\"isOverweight\") + Q(\"isObese\") + Q(\"BMIDiff\") + Q(\"meanSystolicBP\") + Q(\"meanDiastolicBP\") + Q(\"maxSystolicBP\") + Q(\"maxDiastolicBP\") + Q(\"minSystolicBP\") + Q(\"minDiastolicBP\") + Q(\"SystDiff\") + Q(\"DiastDiff\") + Q(\"isPreHyp\") + Q(\"isStage1HBP\") + Q(\"isStage2HBP\")', data=patientdata, return_type='dataframe')"
   ]
  },
  {
   "cell_type": "code",
   "execution_count": 57,
   "metadata": {
    "collapsed": true
   },
   "outputs": [],
   "source": [
    "#y, X = dmatrices('DMIndicator ~ Q(\"Gender\") + Q(\"Age\") + Q(\"hasHeartDisease\") +  Q(\"hasCHF\") + Q(\"hasStroke\") + Q(\"hasSleepA\") + Q(\"hasGestDiab\") + Q(\"hasPolyO\") + Q(\"hasFrozenShoulder\") + Q(\"hasHemoChr\") + Q(\"hasHepatitis\") + Q(\"hasDiabComp\") + Q(\"hasKidneyF\") + Q(\"hasDementia\") + Q(\"hasAcanthosis\") + Q(\"hasBlindness\") + Q(\"hasSDysf\") + Q(\"hasPreDiab\") + Q(\"MeanBMI\") + Q(\"isOverweight\") + Q(\"isObese\") + Q(\"meanSystolicBP\") + Q(\"meanDiastolicBP\") + Q(\"isPreHyp\") + Q(\"isStage1HBP\") + Q(\"isStage2HBP\")', data=patientdata, return_type='dataframe')"
   ]
  },
  {
   "cell_type": "code",
   "execution_count": 58,
   "metadata": {
    "collapsed": true
   },
   "outputs": [],
   "source": [
    "#y, X = dmatrices(formula, data=patientdata, return_type='dataframe')"
   ]
  },
  {
   "cell_type": "markdown",
   "metadata": {},
   "source": [
    "####Model Set 2"
   ]
  },
  {
   "cell_type": "code",
   "execution_count": 59,
   "metadata": {
    "collapsed": false
   },
   "outputs": [
    {
     "data": {
      "text/plain": [
       "Index([u'008.69', u'009.0', u'009.3', u'053.8', u'053.9', u'070.54', u'110.4',\n",
       "       u'110.5', u'110.8', u'112.2', \n",
       "       ...\n",
       "       u'V15.81', u'V15.88', u'V45.81', u'V45.82', u'V58.61', u'V65.42',\n",
       "       u'V69.1', u'V72.81', u'V76.51', u'V79.0'],\n",
       "      dtype='object', length=233)"
      ]
     },
     "execution_count": 59,
     "metadata": {},
     "output_type": "execute_result"
    }
   ],
   "source": [
    "patientdata2.columns[42:(42+len(commonICD9))]"
   ]
  },
  {
   "cell_type": "code",
   "execution_count": 60,
   "metadata": {
    "collapsed": false
   },
   "outputs": [
    {
     "data": {
      "text/plain": [
       "Index([u'PatientGuid', u'DMIndicator', u'Gender', u'YearOfBirth', u'State',\n",
       "       u'PracticeGuid', u'hasHeartDisease', u'hasCHF', u'hasStroke',\n",
       "       u'hasSleepA', u'hasGestDiab', u'hasPolyO', u'hasFrozenShoulder',\n",
       "       u'hasHemoChr', u'hasHepatitis', u'hasDiabComp', u'hasKidneyF',\n",
       "       u'hasDementia', u'hasAcanthosis', u'hasBlindness', u'hasSDysf',\n",
       "       u'hasPreDiab', u'NoRiskFactor', u'blood', u'circulatory', u'congenital',\n",
       "       u'digestive', u'endoctrine', u'genitourinary', u'infectious',\n",
       "       u'injuries', u'mental', u'musculoskeletal', u'neoplasms', u'nervous',\n",
       "       u'perinatal', u'pregnancy', u'respiratory', u'sense', u'skin', u'suppl',\n",
       "       u'symptoms or ill-defined', u'MeanBMI', u'MaxBMI', u'MinBMI',\n",
       "       u'isOverweight', u'isObese', u'BMIDiff', u'NotOverweight',\n",
       "       u'meanSystolicBP', u'meanDiastolicBP', u'maxSystolicBP',\n",
       "       u'maxDiastolicBP', u'minSystolicBP', u'minDiastolicBP', u'SystDiff',\n",
       "       u'DiastDiff', u'isPreHyp', u'isStage1HBP', u'isStage2HBP', u'Age'],\n",
       "      dtype='object')"
      ]
     },
     "execution_count": 60,
     "metadata": {},
     "output_type": "execute_result"
    }
   ],
   "source": [
    "patientdata.columns"
   ]
  },
  {
   "cell_type": "code",
   "execution_count": 61,
   "metadata": {
    "collapsed": false
   },
   "outputs": [
    {
     "name": "stdout",
     "output_type": "stream",
     "text": [
      "DMIndicator ~ Q(\"Gender\") + Q(\"Age\") + Q(\"blood\") + Q(\"circulatory\") + Q(\"congenital\") + Q(\"digestive\") + Q(\"endoctrine\") + Q(\"genitourinary\") + Q(\"infectious\") + Q(\"injuries\") + Q(\"mental\") + Q(\"musculoskeletal\") + Q(\"neoplasms\") + Q(\"nervous\") + Q(\"perinatal\") + Q(\"pregnancy\") + Q(\"respiratory\") + Q(\"sense\") + Q(\"skin\") + Q(\"suppl\") + Q(\"symptoms or ill-defined\") + Q(\"008.69\") + Q(\"009.0\") + Q(\"009.3\") + Q(\"053.8\") + Q(\"053.9\") + Q(\"070.54\") + Q(\"110.4\") + Q(\"110.5\") + Q(\"110.8\") + Q(\"112.2\") + Q(\"112.8\") + Q(\"153.9\") + Q(\"185.\") + Q(\"241.1\") + Q(\"244.2\") + Q(\"244.8\") + Q(\"244.9\") + Q(\"250.01\") + Q(\"250.03\") + Q(\"250.61\") + Q(\"251.2\") + Q(\"257.2\") + Q(\"257.9\") + Q(\"266.2\") + Q(\"268\") + Q(\"268.9\") + Q(\"272.0\") + Q(\"272.1\") + Q(\"272.2\") + Q(\"272.4\") + Q(\"274\") + Q(\"274.00\") + Q(\"274.02\") + Q(\"274.9\") + Q(\"276.1\") + Q(\"276.7\") + Q(\"276.8\") + Q(\"277.7\") + Q(\"278.0\") + Q(\"278.00\") + Q(\"278.01\") + Q(\"280.9\") + Q(\"281.1\") + Q(\"285.2\") + Q(\"285.21\") + Q(\"285.29\") + Q(\"285.9\") + Q(\"287.5\") + Q(\"288.60\") + Q(\"290.0\") + Q(\"295.02\") + Q(\"296.22\") + Q(\"302.7\") + Q(\"302.70\") + Q(\"302.72\") + Q(\"305.9\") + Q(\"305.90\") + Q(\"307.42\") + Q(\"327.00\") + Q(\"327.23\") + Q(\"327.52\") + Q(\"332\") + Q(\"338.4\") + Q(\"345.40\") + Q(\"350.1\") + Q(\"356.8\") + Q(\"356.9\") + Q(\"362.50\") + Q(\"365.9\") + Q(\"366.9\") + Q(\"372.00\") + Q(\"372.72\") + Q(\"381.00\") + Q(\"389.9\") + Q(\"401\") + Q(\"401.0\") + Q(\"401.1\") + Q(\"401.9\") + Q(\"402.01\") + Q(\"402.10\") + Q(\"402.90\") + Q(\"402.91\") + Q(\"405.1\") + Q(\"411.89\") + Q(\"412.\") + Q(\"413\") + Q(\"414.0\") + Q(\"414.00\") + Q(\"414.01\") + Q(\"414.02\") + Q(\"414.04\") + Q(\"414.9\") + Q(\"427.1\") + Q(\"427.31\") + Q(\"427.81\") + Q(\"428.0\") + Q(\"428.22\") + Q(\"428.32\") + Q(\"433.1\") + Q(\"434.91\") + Q(\"435.9\") + Q(\"437.9\") + Q(\"438.89\") + Q(\"438.9\") + Q(\"440.20\") + Q(\"440.21\") + Q(\"443.8\") + Q(\"443.89\") + Q(\"443.9\") + Q(\"453.40\") + Q(\"458.9\") + Q(\"459.39\") + Q(\"459.81\") + Q(\"466\") + Q(\"477.8\") + Q(\"478.9\") + Q(\"486\") + Q(\"490\") + Q(\"490.\") + Q(\"491.0\") + Q(\"491.21\") + Q(\"493.20\") + Q(\"496\") + Q(\"496.\") + Q(\"523.0\") + Q(\"530.11\") + Q(\"536.3\") + Q(\"564.0\") + Q(\"564.00\") + Q(\"564.02\") + Q(\"571.8\") + Q(\"574\") + Q(\"574.20\") + Q(\"584.0\") + Q(\"585\") + Q(\"585.\") + Q(\"585.1\") + Q(\"585.2\") + Q(\"585.3\") + Q(\"585.4\") + Q(\"585.6\") + Q(\"585.9\") + Q(\"588.81\") + Q(\"592.0\") + Q(\"593.9\") + Q(\"596.51\") + Q(\"599.0\") + Q(\"600.0\") + Q(\"600.00\") + Q(\"600.01\") + Q(\"600.90\") + Q(\"607.84\") + Q(\"681.00\") + Q(\"681.02\") + Q(\"681.10\") + Q(\"682\") + Q(\"682.2\") + Q(\"682.6\") + Q(\"682.7\") + Q(\"686.8\") + Q(\"686.9\") + Q(\"692.89\") + Q(\"692.9\") + Q(\"696.1\") + Q(\"700\") + Q(\"703.8\") + Q(\"707.15\") + Q(\"709.9\") + Q(\"714\") + Q(\"714.0\") + Q(\"715.00\") + Q(\"715.04\") + Q(\"715.09\") + Q(\"715.11\") + Q(\"715.15\") + Q(\"715.16\") + Q(\"715.17\") + Q(\"715.26\") + Q(\"715.90\") + Q(\"715.91\") + Q(\"715.96\") + Q(\"716.90\") + Q(\"722.5\") + Q(\"722.52\") + Q(\"722.73\") + Q(\"726.33\") + Q(\"727.03\") + Q(\"728.87\") + Q(\"729.5\") + Q(\"729.82\") + Q(\"733.00\") + Q(\"735.0\") + Q(\"780.2\") + Q(\"780.57\") + Q(\"780.93\") + Q(\"781.2\") + Q(\"782.3\") + Q(\"783.21\") + Q(\"784.2\") + Q(\"785.2\") + Q(\"786.2\") + Q(\"787.1\") + Q(\"787.6\") + Q(\"787.91\") + Q(\"788.30\") + Q(\"788.31\") + Q(\"788.33\") + Q(\"788.43\") + Q(\"789.00\") + Q(\"790.29\") + Q(\"790.93\") + Q(\"791.0\") + Q(\"794.31\") + Q(\"794.8\") + Q(\"799.02\") + Q(\"891.0\") + Q(\"E884\") + Q(\"V03.82\") + Q(\"V04.8\") + Q(\"V04.81\") + Q(\"V04.89\") + Q(\"V10.3\") + Q(\"V10.46\") + Q(\"V15.81\") + Q(\"V15.88\") + Q(\"V45.81\") + Q(\"V45.82\") + Q(\"V58.61\") + Q(\"V65.42\") + Q(\"V69.1\") + Q(\"V72.81\") + Q(\"V76.51\") + Q(\"V79.0\") + Q(\"meanSystolicBP\") + Q(\"meanDiastolicBP\") + Q(\"isPreHyp\") + Q(\"isStage1HBP\") + Q(\"isStage2HBP\") + Q(\"MeanBMI\") + Q(\"isOverweight\") + Q(\"isObese\")\n"
     ]
    }
   ],
   "source": [
    "modelelements1 = patientdata2.columns[6:25]\n",
    "modelelements2 = patientdata2.columns[25:41]\n",
    "modelelements3 = patientdata2.columns[42:(42+len(commonICD9))]\n",
    "modelelements4 = patientdata2.columns[(42+len(commonICD9)):(42+len(commonICD9)+2)].append(patientdata2.columns[(42+len(commonICD9)+8):(42+len(commonICD9)+12)].append(patientdata2.columns[(42+len(commonICD9))+14:(42+len(commonICD9))+16]))\n",
    "modelelements = modelelements1.append(modelelements3.append(modelelements4))\n",
    "modelelements = '\") + Q(\"'.join(modelelements)\n",
    "modelelements = 'Q(\"' + modelelements + '\")'\n",
    "formula = 'DMIndicator ~ Q(\"Gender\") + Q(\"Age\") + ' + modelelements\n",
    "print formula"
   ]
  },
  {
   "cell_type": "code",
   "execution_count": 62,
   "metadata": {
    "collapsed": false
   },
   "outputs": [],
   "source": [
    "y, X = dmatrices(formula, data=patientdata2, return_type='dataframe')"
   ]
  },
  {
   "cell_type": "markdown",
   "metadata": {},
   "source": [
    "####Model Set 3"
   ]
  },
  {
   "cell_type": "code",
   "execution_count": 63,
   "metadata": {
    "collapsed": false
   },
   "outputs": [],
   "source": [
    "model3data = patientdata3.copy()\n",
    "model3data.drop(['YearOfBirth', 'State', 'PracticeGuid', 'NotOverweight', 'NoRiskFactor'], axis=1, inplace=True)"
   ]
  },
  {
   "cell_type": "code",
   "execution_count": 64,
   "metadata": {
    "collapsed": false
   },
   "outputs": [
    {
     "name": "stdout",
     "output_type": "stream",
     "text": [
      "DMIndicator ~ Q(\"Gender\") + Q(\"Age\") + Q(\"blood\") + Q(\"circulatory\") + Q(\"congenital\") + Q(\"digestive\") + Q(\"endoctrine\") + Q(\"genitourinary\") + Q(\"infectious\") + Q(\"injuries\") + Q(\"mental\") + Q(\"musculoskeletal\") + Q(\"neoplasms\") + Q(\"nervous\") + Q(\"perinatal\") + Q(\"pregnancy\") + Q(\"respiratory\") + Q(\"sense\") + Q(\"skin\") + Q(\"suppl\") + Q(\"symptoms or ill-defined\") + Q(\"hasHeartDisease\") + Q(\"hasCHF\") + Q(\"hasStroke\") + Q(\"hasSleepA\") + Q(\"hasGestDiab\") + Q(\"hasPolyO\") + Q(\"hasFrozenShoulder\") + Q(\"hasHemoChr\") + Q(\"hasHepatitis\") + Q(\"hasDiabComp\") + Q(\"hasKidneyF\") + Q(\"hasDementia\") + Q(\"hasAcanthosis\") + Q(\"hasBlindness\") + Q(\"hasSDysf\") + Q(\"hasPreDiab\") + Q(\"009.0\") + Q(\"053.9\") + Q(\"070.54\") + Q(\"110.1\") + Q(\"110.4\") + Q(\"110.5\") + Q(\"185.\") + Q(\"244.8\") + Q(\"244.9\") + Q(\"250.01\") + Q(\"250.03\") + Q(\"250.61\") + Q(\"257.2\") + Q(\"266.2\") + Q(\"268\") + Q(\"268.9\") + Q(\"272.0\") + Q(\"272.1\") + Q(\"272.2\") + Q(\"272.4\") + Q(\"274\") + Q(\"274.00\") + Q(\"274.9\") + Q(\"276.1\") + Q(\"276.7\") + Q(\"276.8\") + Q(\"277.7\") + Q(\"278.0\") + Q(\"278.00\") + Q(\"278.01\") + Q(\"278.02\") + Q(\"280.9\") + Q(\"281.1\") + Q(\"285.2\") + Q(\"285.21\") + Q(\"285.9\") + Q(\"287.5\") + Q(\"290.0\") + Q(\"295.02\") + Q(\"296.22\") + Q(\"300.00\") + Q(\"300.02\") + Q(\"300.4\") + Q(\"302.7\") + Q(\"302.72\") + Q(\"305.1\") + Q(\"305.9\") + Q(\"305.90\") + Q(\"307.40\") + Q(\"307.42\") + Q(\"311\") + Q(\"327.23\") + Q(\"327.52\") + Q(\"332\") + Q(\"338.29\") + Q(\"338.4\") + Q(\"354.0\") + Q(\"356.8\") + Q(\"356.9\") + Q(\"372.00\") + Q(\"380.10\") + Q(\"380.4\") + Q(\"381.00\") + Q(\"386.11\") + Q(\"396.3\") + Q(\"401\") + Q(\"401.0\") + Q(\"401.1\") + Q(\"401.9\") + Q(\"402.01\") + Q(\"402.10\") + Q(\"402.90\") + Q(\"413\") + Q(\"414.0\") + Q(\"414.00\") + Q(\"414.01\") + Q(\"414.02\") + Q(\"427.31\") + Q(\"428.0\") + Q(\"428.22\") + Q(\"435.9\") + Q(\"437.9\") + Q(\"438.89\") + Q(\"438.9\") + Q(\"440.20\") + Q(\"443.9\") + Q(\"458.9\") + Q(\"459.81\") + Q(\"461\") + Q(\"461.0\") + Q(\"461.1\") + Q(\"461.9\") + Q(\"462.\") + Q(\"465.0\") + Q(\"465.9\") + Q(\"466.0\") + Q(\"477\") + Q(\"477.8\") + Q(\"477.9\") + Q(\"482.9\") + Q(\"486\") + Q(\"491.21\") + Q(\"493\") + Q(\"493.00\") + Q(\"493.20\") + Q(\"493.90\") + Q(\"496\") + Q(\"530.11\") + Q(\"530.81\") + Q(\"535.50\") + Q(\"536.3\") + Q(\"536.8\") + Q(\"562.10\") + Q(\"564.0\") + Q(\"564.00\") + Q(\"564.02\") + Q(\"564.1\") + Q(\"585\") + Q(\"585.\") + Q(\"585.1\") + Q(\"585.2\") + Q(\"585.3\") + Q(\"585.4\") + Q(\"585.9\") + Q(\"592.0\") + Q(\"593.9\") + Q(\"595.0\") + Q(\"596.51\") + Q(\"599.0\") + Q(\"600.0\") + Q(\"600.00\") + Q(\"600.01\") + Q(\"607.84\") + Q(\"681.10\") + Q(\"682.2\") + Q(\"682.6\") + Q(\"691.8\") + Q(\"692.9\") + Q(\"700\") + Q(\"702.0\") + Q(\"706.2\") + Q(\"707.15\") + Q(\"714.0\") + Q(\"715.0\") + Q(\"715.00\") + Q(\"715.09\") + Q(\"715.11\") + Q(\"715.15\") + Q(\"715.16\") + Q(\"715.17\") + Q(\"715.26\") + Q(\"715.90\") + Q(\"715.96\") + Q(\"716.90\") + Q(\"719.41\") + Q(\"719.45\") + Q(\"719.46\") + Q(\"719.47\") + Q(\"719.49\") + Q(\"722.52\") + Q(\"723.1\") + Q(\"724.2\") + Q(\"724.3\") + Q(\"724.4\") + Q(\"724.5\") + Q(\"726.10\") + Q(\"728.85\") + Q(\"728.87\") + Q(\"729.1\") + Q(\"729.5\") + Q(\"729.82\") + Q(\"733.0\") + Q(\"733.00\") + Q(\"733.01\") + Q(\"780.2\") + Q(\"780.39\") + Q(\"780.4\") + Q(\"780.52\") + Q(\"780.57\") + Q(\"780.7\") + Q(\"780.79\") + Q(\"780.93\") + Q(\"781.2\") + Q(\"782.0\") + Q(\"782.1\") + Q(\"782.3\") + Q(\"783.1\") + Q(\"783.21\") + Q(\"784.0\") + Q(\"785.1\") + Q(\"785.2\") + Q(\"786.05\") + Q(\"786.07\") + Q(\"786.09\") + Q(\"786.2\") + Q(\"786.5\") + Q(\"786.50\") + Q(\"786.59\") + Q(\"787.91\") + Q(\"788.30\") + Q(\"788.41\") + Q(\"788.43\") + Q(\"789.00\") + Q(\"789.01\") + Q(\"789.03\") + Q(\"790.21\") + Q(\"790.29\") + Q(\"790.93\") + Q(\"791.0\") + Q(\"794.31\") + Q(\"794.8\") + Q(\"840.9\") + Q(\"847.0\") + Q(\"958.3\") + Q(\"V03.82\") + Q(\"V04.8\") + Q(\"V04.81\") + Q(\"V04.89\") + Q(\"V15.81\") + Q(\"V18.0\") + Q(\"V45.81\") + Q(\"V45.82\") + Q(\"V46.2\") + Q(\"V58.61\") + Q(\"V58.67\") + Q(\"V58.69\") + Q(\"V69.1\") + Q(\"V70.0\") + Q(\"V72.84\") + Q(\"V76.51\") + Q(\"V82.81\") + Q(\"meanSystolicBP\") + Q(\"meanDiastolicBP\") + Q(\"maxSystolicBP\") + Q(\"maxDiastolicBP\") + Q(\"minSystolicBP\") + Q(\"minDiastolicBP\") + Q(\"SystDiff\") + Q(\"DiastDiff\") + Q(\"isPreHyp\") + Q(\"isStage1HBP\") + Q(\"isStage2HBP\") + Q(\"MeanBMI\") + Q(\"MaxBMI\") + Q(\"MinBMI\") + Q(\"isOverweight\") + Q(\"isObese\")\n"
     ]
    }
   ],
   "source": [
    "modelelements = '\") + Q(\"'.join(model3data.columns[3:285])\n",
    "modelelements = 'Q(\"' + modelelements + '\")'\n",
    "formula = 'DMIndicator ~ Q(\"Gender\") + Q(\"Age\") + ' + modelelements\n",
    "print formula"
   ]
  },
  {
   "cell_type": "code",
   "execution_count": 65,
   "metadata": {
    "collapsed": false
   },
   "outputs": [],
   "source": [
    "#y, X = dmatrices(formula, data=patientdata3, return_type='dataframe')"
   ]
  },
  {
   "cell_type": "code",
   "execution_count": 66,
   "metadata": {
    "collapsed": false
   },
   "outputs": [],
   "source": [
    "X = X.drop('Intercept', 1)\n",
    "features = X.columns"
   ]
  },
  {
   "cell_type": "code",
   "execution_count": 67,
   "metadata": {
    "collapsed": false
   },
   "outputs": [],
   "source": [
    "X_train, X_test, y_train, y_test = train_test_split(X, y, test_size=0.2, random_state=46)"
   ]
  },
  {
   "cell_type": "code",
   "execution_count": 68,
   "metadata": {
    "collapsed": false
   },
   "outputs": [],
   "source": [
    "X_train = np.array(X_train)\n",
    "X_test = np.array(X_test)\n",
    "y_train = np.array(y_train)\n",
    "y_test = np.array(y_test)"
   ]
  },
  {
   "cell_type": "code",
   "execution_count": 69,
   "metadata": {
    "collapsed": false
   },
   "outputs": [
    {
     "name": "stdout",
     "output_type": "stream",
     "text": [
      "(7931, 262) (1983, 262) (7931, 1) (1983, 1)\n"
     ]
    }
   ],
   "source": [
    "print X_train.shape, X_test.shape, y_train.shape, y_test.shape"
   ]
  },
  {
   "cell_type": "markdown",
   "metadata": {},
   "source": [
    "#####Quick and Dirty Check: Logistic Regression\n",
    "\n",
    "Accuracy Score, Confusion Matrix, Classification Report, ROC, Log Loss, RFECV results"
   ]
  },
  {
   "cell_type": "code",
   "execution_count": 70,
   "metadata": {
    "collapsed": true
   },
   "outputs": [],
   "source": [
    "from sklearn.cross_validation import cross_val_score\n",
    "from sklearn import cross_validation\n",
    "from sklearn.metrics import *\n",
    "import seaborn as sns"
   ]
  },
  {
   "cell_type": "code",
   "execution_count": 71,
   "metadata": {
    "collapsed": true
   },
   "outputs": [],
   "source": [
    "import sklearn"
   ]
  },
  {
   "cell_type": "markdown",
   "metadata": {},
   "source": [
    "Accuracy Score: Training (Cross Validation)"
   ]
  },
  {
   "cell_type": "code",
   "execution_count": 72,
   "metadata": {
    "collapsed": false
   },
   "outputs": [
    {
     "name": "stdout",
     "output_type": "stream",
     "text": [
      "0.817226890756\n"
     ]
    }
   ],
   "source": [
    "n_samples = X_train.shape[0]\n",
    "model1 = LogisticRegression()\n",
    "cv = cross_validation.ShuffleSplit(n_samples, n_iter=10, test_size=0.3, random_state=1)\n",
    "scores = cross_validation.cross_val_score(model1, X_train, y_train.ravel(), cv=cv)\n",
    "print scores.mean()"
   ]
  },
  {
   "cell_type": "markdown",
   "metadata": {},
   "source": [
    "Accuracy Score: Testing"
   ]
  },
  {
   "cell_type": "code",
   "execution_count": 73,
   "metadata": {
    "collapsed": false
   },
   "outputs": [
    {
     "data": {
      "text/plain": [
       "0.8416540595057993"
      ]
     },
     "execution_count": 73,
     "metadata": {},
     "output_type": "execute_result"
    }
   ],
   "source": [
    "model1.fit(X_train, y_train.ravel())\n",
    "model1.score(X_test, y_test.ravel())"
   ]
  },
  {
   "cell_type": "markdown",
   "metadata": {},
   "source": [
    "Confusion Matrix"
   ]
  },
  {
   "cell_type": "code",
   "execution_count": 74,
   "metadata": {
    "collapsed": false,
    "scrolled": true
   },
   "outputs": [
    {
     "data": {
      "text/plain": [
       "<matplotlib.axes._subplots.AxesSubplot at 0x112f8c910>"
      ]
     },
     "execution_count": 74,
     "metadata": {},
     "output_type": "execute_result"
    },
    {
     "data": {
      "image/png": "[encoded data removed]",
      "text/plain": [
       "<matplotlib.figure.Figure at 0x100774490>"
      ]
     },
     "metadata": {},
     "output_type": "display_data"
    }
   ],
   "source": [
    "model1.fit(X_train, y_train.ravel())\n",
    "y_pred = model1.predict(X_test)\n",
    "cm = confusion_matrix(y_test, y_pred)\n",
    "labelname = model1.classes_\n",
    "sns.heatmap(cm, annot=True,  fmt='', xticklabels=labelname, yticklabels=labelname)"
   ]
  },
  {
   "cell_type": "markdown",
   "metadata": {},
   "source": [
    "Classification Report"
   ]
  },
  {
   "cell_type": "code",
   "execution_count": 75,
   "metadata": {
    "collapsed": false
   },
   "outputs": [
    {
     "name": "stdout",
     "output_type": "stream",
     "text": [
      "             precision    recall  f1-score   support\n",
      "\n",
      "        0.0       0.87      0.95      0.91      1640\n",
      "        1.0       0.58      0.31      0.40       343\n",
      "\n",
      "avg / total       0.82      0.84      0.82      1983\n",
      "\n"
     ]
    }
   ],
   "source": [
    "report = classification_report(y_test.ravel(), y_pred)\n",
    "print report"
   ]
  },
  {
   "cell_type": "markdown",
   "metadata": {},
   "source": [
    "ROC"
   ]
  },
  {
   "cell_type": "code",
   "execution_count": 76,
   "metadata": {
    "collapsed": false
   },
   "outputs": [
    {
     "data": {
      "text/plain": [
       "<matplotlib.legend.Legend at 0x118abb190>"
      ]
     },
     "execution_count": 76,
     "metadata": {},
     "output_type": "execute_result"
    },
    {
     "data": {
      "image/png": "[encoded data removed]",
      "text/plain": [
       "<matplotlib.figure.Figure at 0x118abbf10>"
      ]
     },
     "metadata": {},
     "output_type": "display_data"
    }
   ],
   "source": [
    "y_pred_proba = model1.predict_proba(X_test)\n",
    "fpr, tpr, _ = sklearn.metrics.roc_curve(y_test, y_pred_proba[:,1])\n",
    "roc_rates = [fpr, tpr]\n",
    "auc = sklearn.metrics.auc(fpr, tpr)\n",
    "plt.title(\"Logistic Regression\", fontsize = 20)\n",
    "plt.xlabel(\"False positive rate\")\n",
    "plt.ylabel(\"True positive rate\")\n",
    "labelname = \"Logistic Regression\" + \", (area = %0.3f)\" % auc\n",
    "plt.plot(roc_rates[0], roc_rates[1], linewidth = 2, label = labelname)\n",
    "plt.legend(loc = 4)"
   ]
  },
  {
   "cell_type": "markdown",
   "metadata": {},
   "source": [
    "Log Loss: Training (Cross Validation)"
   ]
  },
  {
   "cell_type": "code",
   "execution_count": 77,
   "metadata": {
    "collapsed": false
   },
   "outputs": [
    {
     "name": "stdout",
     "output_type": "stream",
     "text": [
      "0.398736067734\n"
     ]
    }
   ],
   "source": [
    "n_samples = X_train.shape[0]\n",
    "cv = cross_validation.ShuffleSplit(n_samples, n_iter=20, test_size=0.2, random_state=1)\n",
    "logloss = cross_validation.cross_val_score(model1, X_train, y_train.ravel(), cv=cv, scoring='log_loss')\n",
    "print -logloss.mean()"
   ]
  },
  {
   "cell_type": "markdown",
   "metadata": {},
   "source": [
    "Log Loss: Testing"
   ]
  },
  {
   "cell_type": "code",
   "execution_count": 78,
   "metadata": {
    "collapsed": false
   },
   "outputs": [
    {
     "data": {
      "text/plain": [
       "0.35639948447380237"
      ]
     },
     "execution_count": 78,
     "metadata": {},
     "output_type": "execute_result"
    }
   ],
   "source": [
    "sklearn.metrics.log_loss(y_test.ravel(), y_pred_proba[:,1])"
   ]
  },
  {
   "cell_type": "markdown",
   "metadata": {},
   "source": [
    "#####Quick and Dirty Check: Logistic Regression with RFECV"
   ]
  },
  {
   "cell_type": "markdown",
   "metadata": {},
   "source": [
    "Accuracy Score: Testing"
   ]
  },
  {
   "cell_type": "code",
   "execution_count": 79,
   "metadata": {
    "collapsed": false
   },
   "outputs": [
    {
     "data": {
      "text/plain": [
       "0.84266263237518912"
      ]
     },
     "execution_count": 79,
     "metadata": {},
     "output_type": "execute_result"
    }
   ],
   "source": [
    "rfecv = sklearn.feature_selection.RFECV(estimator=model1, step=1, cv=cv, scoring='recall') \n",
    "rfecv.fit(X_train, y_train.ravel())\n",
    "rfecv.score(X_test, y_test.ravel())"
   ]
  },
  {
   "cell_type": "markdown",
   "metadata": {},
   "source": [
    "Confusion Matrix"
   ]
  },
  {
   "cell_type": "code",
   "execution_count": 80,
   "metadata": {
    "collapsed": false
   },
   "outputs": [
    {
     "data": {
      "text/plain": [
       "<matplotlib.axes._subplots.AxesSubplot at 0x10c6b67d0>"
      ]
     },
     "execution_count": 80,
     "metadata": {},
     "output_type": "execute_result"
    },
    {
     "data": {
      "image/png": "[encoded data removed]",
      "text/plain": [
       "<matplotlib.figure.Figure at 0x113330dd0>"
      ]
     },
     "metadata": {},
     "output_type": "display_data"
    }
   ],
   "source": [
    "y_pred = rfecv.predict(X_test)\n",
    "cm = confusion_matrix(y_test, y_pred)\n",
    "labelname = model1.classes_\n",
    "sns.heatmap(cm, annot=True,  fmt='', xticklabels=labelname, yticklabels=labelname)"
   ]
  },
  {
   "cell_type": "markdown",
   "metadata": {},
   "source": [
    "Classification Report"
   ]
  },
  {
   "cell_type": "code",
   "execution_count": 81,
   "metadata": {
    "collapsed": false
   },
   "outputs": [
    {
     "name": "stdout",
     "output_type": "stream",
     "text": [
      "             precision    recall  f1-score   support\n",
      "\n",
      "        0.0       0.87      0.95      0.91      1640\n",
      "        1.0       0.59      0.31      0.40       343\n",
      "\n",
      "avg / total       0.82      0.84      0.82      1983\n",
      "\n"
     ]
    }
   ],
   "source": [
    "report = classification_report(y_test.ravel(), y_pred)\n",
    "print report"
   ]
  },
  {
   "cell_type": "markdown",
   "metadata": {},
   "source": [
    "ROC"
   ]
  },
  {
   "cell_type": "code",
   "execution_count": 82,
   "metadata": {
    "collapsed": false
   },
   "outputs": [
    {
     "data": {
      "text/plain": [
       "<matplotlib.legend.Legend at 0x1193d4750>"
      ]
     },
     "execution_count": 82,
     "metadata": {},
     "output_type": "execute_result"
    },
    {
     "data": {
      "image/png": "[encoded data removed]",
      "text/plain": [
       "<matplotlib.figure.Figure at 0x11689bed0>"
      ]
     },
     "metadata": {},
     "output_type": "display_data"
    }
   ],
   "source": [
    "y_pred_proba = rfecv.predict_proba(X_test)\n",
    "fpr, tpr, _ = sklearn.metrics.roc_curve(y_test, y_pred_proba[:,1])\n",
    "roc_rates = [fpr, tpr]\n",
    "auc = sklearn.metrics.auc(fpr, tpr)\n",
    "plt.title(\"Logistic Regression\", fontsize = 20)\n",
    "plt.xlabel(\"False positive rate\")\n",
    "plt.ylabel(\"True positive rate\")\n",
    "labelname = \"Logistic Regression\" + \", (area = %0.3f)\" % auc\n",
    "plt.plot(roc_rates[0], roc_rates[1], linewidth = 2, label = labelname)\n",
    "plt.legend(loc = 4)"
   ]
  },
  {
   "cell_type": "markdown",
   "metadata": {},
   "source": [
    "Log Loss: Training(Cross Validation)"
   ]
  },
  {
   "cell_type": "code",
   "execution_count": 83,
   "metadata": {
    "collapsed": false
   },
   "outputs": [
    {
     "name": "stdout",
     "output_type": "stream",
     "text": [
      "0.398078014452\n"
     ]
    }
   ],
   "source": [
    "n_samples = X_train[:, rfecv.support_].shape[0]\n",
    "cv = cross_validation.ShuffleSplit(n_samples, n_iter=20, test_size=0.2, random_state=1)\n",
    "model = LogisticRegression()\n",
    "logloss = cross_validation.cross_val_score(model, X_train[:, rfecv.support_], y_train.ravel(), cv=cv, scoring='log_loss')\n",
    "print -logloss.mean()"
   ]
  },
  {
   "cell_type": "markdown",
   "metadata": {},
   "source": [
    "Log Loss: Testing"
   ]
  },
  {
   "cell_type": "code",
   "execution_count": 84,
   "metadata": {
    "collapsed": false
   },
   "outputs": [
    {
     "data": {
      "text/plain": [
       "0.35644886539562765"
      ]
     },
     "execution_count": 84,
     "metadata": {},
     "output_type": "execute_result"
    }
   ],
   "source": [
    "sklearn.metrics.log_loss(y_test.ravel(), y_pred_proba[:,1])"
   ]
  },
  {
   "cell_type": "markdown",
   "metadata": {},
   "source": [
    "####Other Models"
   ]
  },
  {
   "cell_type": "markdown",
   "metadata": {},
   "source": [
    "GaussianNB"
   ]
  },
  {
   "cell_type": "code",
   "execution_count": 85,
   "metadata": {
    "collapsed": false
   },
   "outputs": [
    {
     "name": "stdout",
     "output_type": "stream",
     "text": [
      "0.74987394958\n"
     ]
    }
   ],
   "source": [
    "n_samples = X_train.shape[0]\n",
    "model2 = GaussianNB()\n",
    "cv = cross_validation.ShuffleSplit(n_samples, n_iter=10, test_size=0.3, random_state=1)\n",
    "scores = cross_validation.cross_val_score(model2, X_train, y_train.ravel(), cv=cv)\n",
    "print scores.mean()"
   ]
  },
  {
   "cell_type": "code",
   "execution_count": 86,
   "metadata": {
    "collapsed": true
   },
   "outputs": [],
   "source": [
    "model2.fit(X_train, y_train.ravel())\n",
    "y_pred = model2.predict(X_test)"
   ]
  },
  {
   "cell_type": "code",
   "execution_count": 87,
   "metadata": {
    "collapsed": false,
    "scrolled": true
   },
   "outputs": [
    {
     "data": {
      "text/plain": [
       "<matplotlib.axes._subplots.AxesSubplot at 0x10a8caad0>"
      ]
     },
     "execution_count": 87,
     "metadata": {},
     "output_type": "execute_result"
    },
    {
     "data": {
      "image/png": "[encoded data removed]",
      "text/plain": [
       "<matplotlib.figure.Figure at 0x1193e5c90>"
      ]
     },
     "metadata": {},
     "output_type": "display_data"
    }
   ],
   "source": [
    "cm = confusion_matrix(y_test, y_pred)\n",
    "labelname = model2.classes_\n",
    "sns.heatmap(cm, annot=True,  fmt='', xticklabels=labelname, yticklabels=labelname)"
   ]
  },
  {
   "cell_type": "code",
   "execution_count": 88,
   "metadata": {
    "collapsed": false
   },
   "outputs": [
    {
     "name": "stdout",
     "output_type": "stream",
     "text": [
      "             precision    recall  f1-score   support\n",
      "\n",
      "        0.0       0.88      0.83      0.86      1640\n",
      "        1.0       0.36      0.45      0.40       343\n",
      "\n",
      "avg / total       0.79      0.77      0.78      1983\n",
      "\n"
     ]
    }
   ],
   "source": [
    "report = classification_report(y_test.ravel(), y_pred)\n",
    "print report"
   ]
  },
  {
   "cell_type": "markdown",
   "metadata": {},
   "source": [
    "SVC"
   ]
  },
  {
   "cell_type": "code",
   "execution_count": 89,
   "metadata": {
    "collapsed": false,
    "scrolled": true
   },
   "outputs": [
    {
     "name": "stdout",
     "output_type": "stream",
     "text": [
      "0.811596638655\n"
     ]
    }
   ],
   "source": [
    "n_samples = X_train.shape[0]\n",
    "model3 = SVC()\n",
    "cv = cross_validation.ShuffleSplit(n_samples, n_iter=10, test_size=0.3, random_state=1)\n",
    "scores = cross_validation.cross_val_score(model3, X_train, y_train.ravel(), cv=cv)\n",
    "print scores.mean()"
   ]
  },
  {
   "cell_type": "code",
   "execution_count": 90,
   "metadata": {
    "collapsed": true
   },
   "outputs": [],
   "source": [
    "model3.fit(X_train, y_train.ravel())\n",
    "y_pred = model3.predict(X_test)"
   ]
  },
  {
   "cell_type": "code",
   "execution_count": 91,
   "metadata": {
    "collapsed": false
   },
   "outputs": [
    {
     "data": {
      "text/plain": [
       "<matplotlib.axes._subplots.AxesSubplot at 0x119af4ed0>"
      ]
     },
     "execution_count": 91,
     "metadata": {},
     "output_type": "execute_result"
    },
    {
     "data": {
      "image/png": "[encoded data removed]",
      "text/plain": [
       "<matplotlib.figure.Figure at 0x119ac3c50>"
      ]
     },
     "metadata": {},
     "output_type": "display_data"
    }
   ],
   "source": [
    "cm = confusion_matrix(y_test, y_pred)\n",
    "labelname = model3.classes_\n",
    "sns.heatmap(cm, annot=True,  fmt='', xticklabels=labelname, yticklabels=labelname)"
   ]
  },
  {
   "cell_type": "code",
   "execution_count": 92,
   "metadata": {
    "collapsed": false
   },
   "outputs": [
    {
     "name": "stdout",
     "output_type": "stream",
     "text": [
      "             precision    recall  f1-score   support\n",
      "\n",
      "        0.0       0.84      0.98      0.90      1640\n",
      "        1.0       0.53      0.08      0.15       343\n",
      "\n",
      "avg / total       0.78      0.83      0.77      1983\n",
      "\n"
     ]
    }
   ],
   "source": [
    "report = classification_report(y_test.ravel(), y_pred)\n",
    "print report"
   ]
  },
  {
   "cell_type": "markdown",
   "metadata": {},
   "source": [
    "Decision Tree"
   ]
  },
  {
   "cell_type": "code",
   "execution_count": 93,
   "metadata": {
    "collapsed": false
   },
   "outputs": [
    {
     "data": {
      "text/plain": [
       "<matplotlib.axes._subplots.AxesSubplot at 0x119e7ab90>"
      ]
     },
     "execution_count": 93,
     "metadata": {},
     "output_type": "execute_result"
    },
    {
     "data": {
      "image/png": "[encoded data removed]",
      "text/plain": [
       "<matplotlib.figure.Figure at 0x10cae93d0>"
      ]
     },
     "metadata": {},
     "output_type": "display_data"
    }
   ],
   "source": [
    "scoresTrain = []\n",
    "scoresTest=[]\n",
    "for i in range(1, 21):\n",
    "    model = DecisionTreeClassifier(max_depth = i)\n",
    "    model.fit(X_train, y_train.ravel())\n",
    "    y_train_pred = model.predict(X_train)\n",
    "    scoresTrain.append(accuracy_score(y_train, y_train_pred))\n",
    "    y_test_pred = model.predict(X_test)\n",
    "    scoresTest.append(accuracy_score(y_test, y_test_pred))\n",
    "plotdata = pd.DataFrame(data={'Train': scoresTrain, 'Test': scoresTest})\n",
    "plotdata.index=range(1, 21)\n",
    "%matplotlib inline\n",
    "matplotlib.style.use('ggplot')\n",
    "plotdata.plot()"
   ]
  },
  {
   "cell_type": "code",
   "execution_count": 94,
   "metadata": {
    "collapsed": false
   },
   "outputs": [
    {
     "data": {
      "text/html": [
       "<div>\n",
       "<table border=\"1\" class=\"dataframe\">\n",
       "  <thead>\n",
       "    <tr style=\"text-align: right;\">\n",
       "      <th></th>\n",
       "      <th>Test</th>\n",
       "      <th>Train</th>\n",
       "    </tr>\n",
       "  </thead>\n",
       "  <tbody>\n",
       "    <tr>\n",
       "      <th>1</th>\n",
       "      <td>0.827030</td>\n",
       "      <td>0.803303</td>\n",
       "    </tr>\n",
       "    <tr>\n",
       "      <th>2</th>\n",
       "      <td>0.827030</td>\n",
       "      <td>0.803303</td>\n",
       "    </tr>\n",
       "    <tr>\n",
       "      <th>3</th>\n",
       "      <td>0.827030</td>\n",
       "      <td>0.804564</td>\n",
       "    </tr>\n",
       "    <tr>\n",
       "      <th>4</th>\n",
       "      <td>0.826021</td>\n",
       "      <td>0.804943</td>\n",
       "    </tr>\n",
       "    <tr>\n",
       "      <th>5</th>\n",
       "      <td>0.837115</td>\n",
       "      <td>0.814525</td>\n",
       "    </tr>\n",
       "    <tr>\n",
       "      <th>6</th>\n",
       "      <td>0.830055</td>\n",
       "      <td>0.821838</td>\n",
       "    </tr>\n",
       "    <tr>\n",
       "      <th>7</th>\n",
       "      <td>0.828038</td>\n",
       "      <td>0.831421</td>\n",
       "    </tr>\n",
       "    <tr>\n",
       "      <th>8</th>\n",
       "      <td>0.830560</td>\n",
       "      <td>0.843651</td>\n",
       "    </tr>\n",
       "    <tr>\n",
       "      <th>9</th>\n",
       "      <td>0.822995</td>\n",
       "      <td>0.855756</td>\n",
       "    </tr>\n",
       "    <tr>\n",
       "      <th>10</th>\n",
       "      <td>0.813414</td>\n",
       "      <td>0.866221</td>\n",
       "    </tr>\n",
       "    <tr>\n",
       "      <th>11</th>\n",
       "      <td>0.810893</td>\n",
       "      <td>0.880343</td>\n",
       "    </tr>\n",
       "    <tr>\n",
       "      <th>12</th>\n",
       "      <td>0.807363</td>\n",
       "      <td>0.896230</td>\n",
       "    </tr>\n",
       "    <tr>\n",
       "      <th>13</th>\n",
       "      <td>0.799294</td>\n",
       "      <td>0.914134</td>\n",
       "    </tr>\n",
       "    <tr>\n",
       "      <th>14</th>\n",
       "      <td>0.789713</td>\n",
       "      <td>0.929265</td>\n",
       "    </tr>\n",
       "    <tr>\n",
       "      <th>15</th>\n",
       "      <td>0.792234</td>\n",
       "      <td>0.943135</td>\n",
       "    </tr>\n",
       "    <tr>\n",
       "      <th>16</th>\n",
       "      <td>0.794251</td>\n",
       "      <td>0.952843</td>\n",
       "    </tr>\n",
       "    <tr>\n",
       "      <th>17</th>\n",
       "      <td>0.781644</td>\n",
       "      <td>0.961922</td>\n",
       "    </tr>\n",
       "    <tr>\n",
       "      <th>18</th>\n",
       "      <td>0.786183</td>\n",
       "      <td>0.966839</td>\n",
       "    </tr>\n",
       "    <tr>\n",
       "      <th>19</th>\n",
       "      <td>0.777105</td>\n",
       "      <td>0.976674</td>\n",
       "    </tr>\n",
       "    <tr>\n",
       "      <th>20</th>\n",
       "      <td>0.773071</td>\n",
       "      <td>0.976296</td>\n",
       "    </tr>\n",
       "  </tbody>\n",
       "</table>\n",
       "</div>"
      ],
      "text/plain": [
       "        Test     Train\n",
       "1   0.827030  0.803303\n",
       "2   0.827030  0.803303\n",
       "3   0.827030  0.804564\n",
       "4   0.826021  0.804943\n",
       "5   0.837115  0.814525\n",
       "6   0.830055  0.821838\n",
       "7   0.828038  0.831421\n",
       "8   0.830560  0.843651\n",
       "9   0.822995  0.855756\n",
       "10  0.813414  0.866221\n",
       "11  0.810893  0.880343\n",
       "12  0.807363  0.896230\n",
       "13  0.799294  0.914134\n",
       "14  0.789713  0.929265\n",
       "15  0.792234  0.943135\n",
       "16  0.794251  0.952843\n",
       "17  0.781644  0.961922\n",
       "18  0.786183  0.966839\n",
       "19  0.777105  0.976674\n",
       "20  0.773071  0.976296"
      ]
     },
     "execution_count": 94,
     "metadata": {},
     "output_type": "execute_result"
    }
   ],
   "source": [
    "plotdata"
   ]
  },
  {
   "cell_type": "code",
   "execution_count": 95,
   "metadata": {
    "collapsed": false
   },
   "outputs": [
    {
     "name": "stdout",
     "output_type": "stream",
     "text": [
      "0.799285714286\n"
     ]
    }
   ],
   "source": [
    "n_samples = X_train.shape[0]\n",
    "model4 = DecisionTreeClassifier(max_depth = 6)\n",
    "cv = cross_validation.ShuffleSplit(n_samples, n_iter=10, test_size=0.3, random_state=1)\n",
    "scores = cross_validation.cross_val_score(model4, X_train, y_train.ravel(), cv=cv)\n",
    "print scores.mean()"
   ]
  },
  {
   "cell_type": "code",
   "execution_count": 96,
   "metadata": {
    "collapsed": true
   },
   "outputs": [],
   "source": [
    "model4.fit(X_train, y_train.ravel())\n",
    "y_pred = model4.predict(X_test)"
   ]
  },
  {
   "cell_type": "code",
   "execution_count": 97,
   "metadata": {
    "collapsed": false
   },
   "outputs": [
    {
     "data": {
      "text/plain": [
       "<matplotlib.axes._subplots.AxesSubplot at 0x119b45f10>"
      ]
     },
     "execution_count": 97,
     "metadata": {},
     "output_type": "execute_result"
    },
    {
     "data": {
      "image/png": "[encoded data removed]",
      "text/plain": [
       "<matplotlib.figure.Figure at 0x11a4fd890>"
      ]
     },
     "metadata": {},
     "output_type": "display_data"
    }
   ],
   "source": [
    "cm = confusion_matrix(y_test, y_pred)\n",
    "labelname = model3.classes_\n",
    "sns.heatmap(cm, annot=True,  fmt='', xticklabels=labelname, yticklabels=labelname)"
   ]
  },
  {
   "cell_type": "code",
   "execution_count": 98,
   "metadata": {
    "collapsed": false
   },
   "outputs": [
    {
     "name": "stdout",
     "output_type": "stream",
     "text": [
      "             precision    recall  f1-score   support\n",
      "\n",
      "        0.0       0.85      0.96      0.90      1640\n",
      "        1.0       0.52      0.20      0.29       343\n",
      "\n",
      "avg / total       0.79      0.83      0.80      1983\n",
      "\n"
     ]
    }
   ],
   "source": [
    "report = classification_report(y_test.ravel(), y_pred)\n",
    "print report"
   ]
  },
  {
   "cell_type": "markdown",
   "metadata": {},
   "source": [
    "Random Forest"
   ]
  },
  {
   "cell_type": "code",
   "execution_count": 99,
   "metadata": {
    "collapsed": false,
    "scrolled": true
   },
   "outputs": [
    {
     "name": "stdout",
     "output_type": "stream",
     "text": [
      "0.805420168067\n"
     ]
    }
   ],
   "source": [
    "n_samples = X_train.shape[0]\n",
    "model5 = RandomForestClassifier()\n",
    "cv = cross_validation.ShuffleSplit(n_samples, n_iter=10, test_size=0.3, random_state=1)\n",
    "scores = cross_validation.cross_val_score(model5, X_train, y_train.ravel(), cv=cv)\n",
    "print scores.mean()"
   ]
  },
  {
   "cell_type": "code",
   "execution_count": 100,
   "metadata": {
    "collapsed": true
   },
   "outputs": [],
   "source": [
    "model5.fit(X_train, y_train.ravel())\n",
    "y_pred = model5.predict(X_test)"
   ]
  },
  {
   "cell_type": "code",
   "execution_count": 101,
   "metadata": {
    "collapsed": false
   },
   "outputs": [
    {
     "data": {
      "text/plain": [
       "<matplotlib.axes._subplots.AxesSubplot at 0x11a79f9d0>"
      ]
     },
     "execution_count": 101,
     "metadata": {},
     "output_type": "execute_result"
    },
    {
     "data": {
      "image/png": "[encoded data removed]",
      "text/plain": [
       "<matplotlib.figure.Figure at 0x10cadfc90>"
      ]
     },
     "metadata": {},
     "output_type": "display_data"
    }
   ],
   "source": [
    "cm = confusion_matrix(y_test, y_pred)\n",
    "labelname = model5.classes_\n",
    "sns.heatmap(cm, annot=True,  fmt='', xticklabels=labelname, yticklabels=labelname)"
   ]
  },
  {
   "cell_type": "code",
   "execution_count": 102,
   "metadata": {
    "collapsed": false
   },
   "outputs": [
    {
     "name": "stdout",
     "output_type": "stream",
     "text": [
      "             precision    recall  f1-score   support\n",
      "\n",
      "        0.0       0.85      0.97      0.91      1640\n",
      "        1.0       0.56      0.20      0.29       343\n",
      "\n",
      "avg / total       0.80      0.83      0.80      1983\n",
      "\n"
     ]
    }
   ],
   "source": [
    "report = classification_report(y_test.ravel(), y_pred)\n",
    "print report"
   ]
  },
  {
   "cell_type": "markdown",
   "metadata": {},
   "source": [
    "K-Nearest Neighbors"
   ]
  },
  {
   "cell_type": "code",
   "execution_count": 103,
   "metadata": {
    "collapsed": false
   },
   "outputs": [],
   "source": [
    "scoresTrain = []\n",
    "scoresTest=[]\n",
    "for i in range(1, 21):\n",
    "    model = KNeighborsClassifier(n_neighbors=i)\n",
    "    model.fit(X_train, y_train.ravel())\n",
    "    y_train_pred = model.predict(X_train)\n",
    "    scoresTrain.append(accuracy_score(y_train, y_train_pred))\n",
    "    y_test_pred = model.predict(X_test)\n",
    "    scoresTest.append(accuracy_score(y_test, y_test_pred))"
   ]
  },
  {
   "cell_type": "code",
   "execution_count": 104,
   "metadata": {
    "collapsed": false
   },
   "outputs": [
    {
     "data": {
      "text/html": [
       "<div>\n",
       "<table border=\"1\" class=\"dataframe\">\n",
       "  <thead>\n",
       "    <tr style=\"text-align: right;\">\n",
       "      <th></th>\n",
       "      <th>Test</th>\n",
       "      <th>Train</th>\n",
       "    </tr>\n",
       "  </thead>\n",
       "  <tbody>\n",
       "    <tr>\n",
       "      <th>1</th>\n",
       "      <td>0.749874</td>\n",
       "      <td>1.000000</td>\n",
       "    </tr>\n",
       "    <tr>\n",
       "      <th>2</th>\n",
       "      <td>0.808371</td>\n",
       "      <td>0.867608</td>\n",
       "    </tr>\n",
       "    <tr>\n",
       "      <th>3</th>\n",
       "      <td>0.788200</td>\n",
       "      <td>0.870130</td>\n",
       "    </tr>\n",
       "    <tr>\n",
       "      <th>4</th>\n",
       "      <td>0.809380</td>\n",
       "      <td>0.842769</td>\n",
       "    </tr>\n",
       "    <tr>\n",
       "      <th>5</th>\n",
       "      <td>0.790217</td>\n",
       "      <td>0.846930</td>\n",
       "    </tr>\n",
       "    <tr>\n",
       "      <th>6</th>\n",
       "      <td>0.811901</td>\n",
       "      <td>0.833438</td>\n",
       "    </tr>\n",
       "    <tr>\n",
       "      <th>7</th>\n",
       "      <td>0.810388</td>\n",
       "      <td>0.834825</td>\n",
       "    </tr>\n",
       "    <tr>\n",
       "      <th>8</th>\n",
       "      <td>0.821483</td>\n",
       "      <td>0.831799</td>\n",
       "    </tr>\n",
       "    <tr>\n",
       "      <th>9</th>\n",
       "      <td>0.816440</td>\n",
       "      <td>0.832430</td>\n",
       "    </tr>\n",
       "    <tr>\n",
       "      <th>10</th>\n",
       "      <td>0.824004</td>\n",
       "      <td>0.826504</td>\n",
       "    </tr>\n",
       "    <tr>\n",
       "      <th>11</th>\n",
       "      <td>0.821483</td>\n",
       "      <td>0.826125</td>\n",
       "    </tr>\n",
       "    <tr>\n",
       "      <th>12</th>\n",
       "      <td>0.825517</td>\n",
       "      <td>0.821964</td>\n",
       "    </tr>\n",
       "    <tr>\n",
       "      <th>13</th>\n",
       "      <td>0.826021</td>\n",
       "      <td>0.824108</td>\n",
       "    </tr>\n",
       "    <tr>\n",
       "      <th>14</th>\n",
       "      <td>0.825013</td>\n",
       "      <td>0.820073</td>\n",
       "    </tr>\n",
       "    <tr>\n",
       "      <th>15</th>\n",
       "      <td>0.826525</td>\n",
       "      <td>0.822091</td>\n",
       "    </tr>\n",
       "    <tr>\n",
       "      <th>16</th>\n",
       "      <td>0.827534</td>\n",
       "      <td>0.818308</td>\n",
       "    </tr>\n",
       "    <tr>\n",
       "      <th>17</th>\n",
       "      <td>0.827534</td>\n",
       "      <td>0.820325</td>\n",
       "    </tr>\n",
       "    <tr>\n",
       "      <th>18</th>\n",
       "      <td>0.825517</td>\n",
       "      <td>0.817804</td>\n",
       "    </tr>\n",
       "    <tr>\n",
       "      <th>19</th>\n",
       "      <td>0.825517</td>\n",
       "      <td>0.820199</td>\n",
       "    </tr>\n",
       "    <tr>\n",
       "      <th>20</th>\n",
       "      <td>0.826021</td>\n",
       "      <td>0.817677</td>\n",
       "    </tr>\n",
       "  </tbody>\n",
       "</table>\n",
       "</div>"
      ],
      "text/plain": [
       "        Test     Train\n",
       "1   0.749874  1.000000\n",
       "2   0.808371  0.867608\n",
       "3   0.788200  0.870130\n",
       "4   0.809380  0.842769\n",
       "5   0.790217  0.846930\n",
       "6   0.811901  0.833438\n",
       "7   0.810388  0.834825\n",
       "8   0.821483  0.831799\n",
       "9   0.816440  0.832430\n",
       "10  0.824004  0.826504\n",
       "11  0.821483  0.826125\n",
       "12  0.825517  0.821964\n",
       "13  0.826021  0.824108\n",
       "14  0.825013  0.820073\n",
       "15  0.826525  0.822091\n",
       "16  0.827534  0.818308\n",
       "17  0.827534  0.820325\n",
       "18  0.825517  0.817804\n",
       "19  0.825517  0.820199\n",
       "20  0.826021  0.817677"
      ]
     },
     "execution_count": 104,
     "metadata": {},
     "output_type": "execute_result"
    }
   ],
   "source": [
    "plotdata = pd.DataFrame(data={'Train': scoresTrain, 'Test': scoresTest})\n",
    "plotdata.index=range(1, plotdata.shape[0] + 1)\n",
    "plotdata"
   ]
  },
  {
   "cell_type": "code",
   "execution_count": 105,
   "metadata": {
    "collapsed": false
   },
   "outputs": [
    {
     "data": {
      "text/plain": [
       "<matplotlib.axes._subplots.AxesSubplot at 0x11a83ead0>"
      ]
     },
     "execution_count": 105,
     "metadata": {},
     "output_type": "execute_result"
    },
    {
     "data": {
      "image/png": "[encoded data removed]",
      "text/plain": [
       "<matplotlib.figure.Figure at 0x11a531c10>"
      ]
     },
     "metadata": {},
     "output_type": "display_data"
    }
   ],
   "source": [
    "%matplotlib inline\n",
    "matplotlib.style.use('ggplot')\n",
    "plotdata.plot()"
   ]
  },
  {
   "cell_type": "code",
   "execution_count": 106,
   "metadata": {
    "collapsed": false
   },
   "outputs": [
    {
     "name": "stdout",
     "output_type": "stream",
     "text": [
      "0.805504201681\n"
     ]
    }
   ],
   "source": [
    "n_samples = X_train.shape[0]\n",
    "model6 = KNeighborsClassifier(n_neighbors=18)\n",
    "cv = cross_validation.ShuffleSplit(n_samples, n_iter=10, test_size=0.3, random_state=1)\n",
    "scores = cross_validation.cross_val_score(model5, X_train, y_train.ravel(), cv=cv)\n",
    "print scores.mean()"
   ]
  },
  {
   "cell_type": "code",
   "execution_count": 107,
   "metadata": {
    "collapsed": true
   },
   "outputs": [],
   "source": [
    "model6.fit(X_train, y_train.ravel())\n",
    "y_pred = model6.predict(X_test)"
   ]
  },
  {
   "cell_type": "code",
   "execution_count": 108,
   "metadata": {
    "collapsed": false
   },
   "outputs": [
    {
     "data": {
      "text/plain": [
       "<matplotlib.axes._subplots.AxesSubplot at 0x10b317610>"
      ]
     },
     "execution_count": 108,
     "metadata": {},
     "output_type": "execute_result"
    },
    {
     "data": {
      "image/png": "[encoded data removed]",
      "text/plain": [
       "<matplotlib.figure.Figure at 0x1122d8550>"
      ]
     },
     "metadata": {},
     "output_type": "display_data"
    }
   ],
   "source": [
    "cm = confusion_matrix(y_test, y_pred)\n",
    "labelname = model6.classes_\n",
    "sns.heatmap(cm, annot=True,  fmt='', xticklabels=labelname, yticklabels=labelname)"
   ]
  },
  {
   "cell_type": "code",
   "execution_count": 109,
   "metadata": {
    "collapsed": false
   },
   "outputs": [
    {
     "name": "stdout",
     "output_type": "stream",
     "text": [
      "             precision    recall  f1-score   support\n",
      "\n",
      "        0.0       0.84      0.98      0.90      1640\n",
      "        1.0       0.48      0.08      0.14       343\n",
      "\n",
      "avg / total       0.77      0.83      0.77      1983\n",
      "\n"
     ]
    }
   ],
   "source": [
    "report = classification_report(y_test.ravel(), y_pred)\n",
    "print report"
   ]
  },
  {
   "cell_type": "markdown",
   "metadata": {},
   "source": [
    "#####Plotting ROC Curves"
   ]
  },
  {
   "cell_type": "code",
   "execution_count": 110,
   "metadata": {
    "collapsed": true
   },
   "outputs": [],
   "source": [
    "from sklearn import metrics\n",
    "from sklearn.feature_selection import RFECV"
   ]
  },
  {
   "cell_type": "code",
   "execution_count": 111,
   "metadata": {
    "collapsed": false
   },
   "outputs": [],
   "source": [
    "estimators = [\n",
    "    LogisticRegression(), \n",
    "    SVC(probability=True), \n",
    "    GaussianNB(), \n",
    "    DecisionTreeClassifier(max_depth = 5), \n",
    "    RandomForestClassifier(), \n",
    "    KNeighborsClassifier(n_neighbors = 10)\n",
    "    ]\n",
    "\n",
    "names = [\"Logistic Regression\", \"Support Vector Machine\", \"Gaussian Naive Bayes\", \"Decision Tree Classifier\",\n",
    "        \"Random Forest Classifier\", \"K Neighbors - 10\"]\n",
    "\n",
    "colors = [\"b\", \"g\", \"r\", \"k\", \"c\", \"y\"]"
   ]
  },
  {
   "cell_type": "code",
   "execution_count": 112,
   "metadata": {
    "collapsed": true
   },
   "outputs": [],
   "source": [
    "def roc_rates(estimator, X_train = X_train, y_train = y_train.ravel(), X_test = X_test, y_test = y_test.ravel()):\n",
    "    \n",
    "    #Recursive Features Selection\n",
    "    model = estimator\n",
    "    model.fit(X_train, y_train)\n",
    "    test_pred = model.predict_proba(X_test)\n",
    "    \n",
    "    # return the roc parameters\n",
    "    fpr, tpr, _ = metrics.roc_curve(y_test, test_pred[:,1])\n",
    "    roc_rates = [fpr, tpr]\n",
    "    auc = metrics.auc(fpr, tpr)\n",
    "    return roc_rates, auc"
   ]
  },
  {
   "cell_type": "code",
   "execution_count": 115,
   "metadata": {
    "collapsed": false
   },
   "outputs": [
    {
     "data": {
      "image/png": "[encoded data removed]",
      "text/plain": [
       "<matplotlib.figure.Figure at 0x112346c90>"
      ]
     },
     "metadata": {},
     "output_type": "display_data"
    }
   ],
   "source": [
    "#plt.figure(figsize = (15,12))\n",
    "\n",
    "for i, model in enumerate(estimators):\n",
    "    #plt.subplot(2,3, i)\n",
    "    #plt.title(names[i], fontsize = 20)\n",
    "    plt.xlabel(\"False positive rate\")\n",
    "    plt.ylabel(\"True positive rate\")\n",
    "    \n",
    "    # plot parameters using unscaled predictors\n",
    "    params = roc_rates(estimators[i], X_train, y_train.ravel(), X_test, y_test.ravel())[0]\n",
    "    area = roc_rates(estimators[i], X_train, y_train.ravel(), X_test, y_test.ravel())[1]\n",
    "    labelname = names[i] + \", (area = %0.2f)\" % area\n",
    "    plt.plot(params[0], params[1], colors[i] + \"--\", linewidth = 2, label = labelname)\n",
    "    plt.legend(loc = 4)\n",
    "\n",
    "plt.tight_layout()\n",
    "plt.show()"
   ]
  },
  {
   "cell_type": "markdown",
   "metadata": {},
   "source": [
    "####Calculating Log Loss"
   ]
  },
  {
   "cell_type": "code",
   "execution_count": null,
   "metadata": {
    "collapsed": false
   },
   "outputs": [],
   "source": [
    "for i, estimator in enumerate(estimators):\n",
    "    model = estimator\n",
    "    model.fit(X_train, y_train.ravel())\n",
    "    y_pred = model.predict_proba(X_test)\n",
    "    ll = metrics.log_loss(y_test.ravel(), y_pred[:,1])\n",
    "    print names[i] + ', LogLoss: %0.2f'% ll"
   ]
  },
  {
   "cell_type": "code",
   "execution_count": null,
   "metadata": {
    "collapsed": false,
    "scrolled": false
   },
   "outputs": [],
   "source": [
    "n_samples = X_train.shape[0]\n",
    "model = estimators[0]\n",
    "cv = cross_validation.ShuffleSplit(n_samples, n_iter=20, test_size=0.2, random_state=1)\n",
    "logloss = cross_validation.cross_val_score(model, np.array(X), np.array(y).ravel(), cv=cv, scoring='log_loss')\n",
    "print -logloss.mean()"
   ]
  },
  {
   "cell_type": "markdown",
   "metadata": {},
   "source": [
    "#####Incorporating Feature Selection"
   ]
  },
  {
   "cell_type": "code",
   "execution_count": null,
   "metadata": {
    "collapsed": false
   },
   "outputs": [],
   "source": [
    "import matplotlib.pyplot as plt\n",
    "from sklearn.svm import SVC\n",
    "from sklearn.cross_validation import StratifiedKFold\n",
    "from sklearn.feature_selection import RFECV\n",
    "from sklearn.datasets import make_classification"
   ]
  },
  {
   "cell_type": "code",
   "execution_count": null,
   "metadata": {
    "collapsed": true
   },
   "outputs": [],
   "source": [
    "n_samples = X_train.shape[0]\n",
    "cv = cross_validation.ShuffleSplit(n_samples, n_iter=10, test_size=0.3, random_state=1)"
   ]
  },
  {
   "cell_type": "markdown",
   "metadata": {},
   "source": [
    "Logistic Regression"
   ]
  },
  {
   "cell_type": "code",
   "execution_count": null,
   "metadata": {
    "collapsed": false
   },
   "outputs": [],
   "source": [
    "model = LogisticRegression()\n",
    "rfecv = RFECV(estimator=model, step=1, cv=cv, scoring='recall') \n",
    "rfecv.fit(X_train, y_train.ravel())\n",
    "test_pred = rfecv.predict_proba(X_test)\n",
    "fpr, tpr, _ = metrics.roc_curve(y_test, test_pred[:,1])\n",
    "roc_rates = [fpr, tpr]\n",
    "auc = metrics.auc(fpr, tpr)\n",
    "plt.title(\"Logistic Regression\", fontsize = 20)\n",
    "plt.xlabel(\"False positive rate\")\n",
    "plt.ylabel(\"True positive rate\")\n",
    "labelname = \"Logistic Regression\" + \", (area = %0.2f)\" % auc\n",
    "plt.plot(roc_rates[0], roc_rates[1], colors[i] + \"--\", linewidth = 2, label = labelname)\n",
    "plt.legend(loc = 4)"
   ]
  },
  {
   "cell_type": "markdown",
   "metadata": {},
   "source": [
    "Comparing model with reduced features against original model"
   ]
  },
  {
   "cell_type": "code",
   "execution_count": null,
   "metadata": {
    "collapsed": false
   },
   "outputs": [],
   "source": [
    "rfecv.score(X_test, y_test.ravel())"
   ]
  },
  {
   "cell_type": "code",
   "execution_count": null,
   "metadata": {
    "collapsed": false
   },
   "outputs": [],
   "source": [
    "y_pred = rfecv.predict_proba(X_test)\n",
    "ll = metrics.log_loss(y_test.ravel(), y_pred[:,1])\n",
    "print names[0] + ', LogLoss: %0.2f'% ll"
   ]
  },
  {
   "cell_type": "code",
   "execution_count": null,
   "metadata": {
    "collapsed": false
   },
   "outputs": [],
   "source": [
    "y_pred = rfecv.predict(X_test)\n",
    "cm = confusion_matrix(y_test, y_pred)\n",
    "labelname = model1.classes_\n",
    "sns.heatmap(cm, annot=True,  fmt='', xticklabels=labelname, yticklabels=labelname)"
   ]
  },
  {
   "cell_type": "code",
   "execution_count": null,
   "metadata": {
    "collapsed": false
   },
   "outputs": [],
   "source": [
    "report = classification_report(y_test.ravel(), y_pred)\n",
    "print report"
   ]
  },
  {
   "cell_type": "code",
   "execution_count": null,
   "metadata": {
    "collapsed": false
   },
   "outputs": [],
   "source": [
    "model1 = LogisticRegression()\n",
    "model1.fit(X_train, y_train.ravel())\n",
    "model1.score(X_test, y_test.ravel())"
   ]
  },
  {
   "cell_type": "markdown",
   "metadata": {},
   "source": [
    "Random Forest Classifier"
   ]
  },
  {
   "cell_type": "code",
   "execution_count": null,
   "metadata": {
    "collapsed": true
   },
   "outputs": [],
   "source": [
    "from sklearn.ensemble import ExtraTreesClassifier\n",
    "from sklearn.pipeline import Pipeline\n",
    "from sklearn.svm import LinearSVC"
   ]
  },
  {
   "cell_type": "code",
   "execution_count": null,
   "metadata": {
    "collapsed": false
   },
   "outputs": [],
   "source": [
    "# Build a forest and compute the feature importances\n",
    "forest = ExtraTreesClassifier(n_estimators=250,\n",
    "                              random_state=0)\n",
    "\n",
    "forest.fit(X_train, y_train.ravel())\n",
    "importances = forest.feature_importances_\n",
    "std = np.std([tree.feature_importances_ for tree in forest.estimators_], axis=0)\n",
    "indices = np.argsort(importances)[::-1]\n",
    "\n",
    "#Print the feature ranking\n",
    "print(\"Feature ranking:\")\n",
    "\n",
    "for f in range(len(features)):\n",
    "    print(\"%d. feature %d (%f)\" % (f + 1, indices[f], importances[indices[f]])), features[float(indices[f])]"
   ]
  }
 ],
 "metadata": {
  "kernelspec": {
   "display_name": "Python 2",
   "language": "python",
   "name": "python2"
  },
  "language_info": {
   "codemirror_mode": {
    "name": "ipython",
    "version": 2
   },
   "file_extension": ".py",
   "mimetype": "text/x-python",
   "name": "python",
   "nbconvert_exporter": "python",
   "pygments_lexer": "ipython2",
   "version": "2.7.10"
  }
 },
 "nbformat": 4,
 "nbformat_minor": 0
}
